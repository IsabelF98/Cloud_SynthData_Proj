{
 "cells": [
  {
   "cell_type": "markdown",
   "id": "eaeb6af6-6e81-4a99-8c30-81b80d76811c",
   "metadata": {},
   "source": [
    "# Complute GQMs to Save"
   ]
  },
  {
   "cell_type": "code",
   "execution_count": 1,
   "id": "8bb62917-82c8-4617-81a5-2d5df8f959ee",
   "metadata": {},
   "outputs": [
    {
     "name": "stdout",
     "output_type": "stream",
     "text": [
      "Running on Computer: [sc]\n",
      "Invoking __init__.py for NDNT.utils\n"
     ]
    }
   ],
   "source": [
    "import sys\n",
    "import os\n",
    "\n",
    "myhost = os.uname()[1]\n",
    "print(\"Running on Computer: [%s]\" %myhost)\n",
    "\n",
    "sys.path.insert(0, '/home/ifernand/Code/') \n",
    "dirname = '/home/ifernand/Cloud_SynthData_Proj'\n",
    "\n",
    "import numpy as np\n",
    "from copy import deepcopy\n",
    "import matplotlib.pyplot as plt\n",
    "from scipy import io as sio\n",
    "import torch\n",
    "import time\n",
    "import h5py\n",
    "\n",
    "# NDN tools\n",
    "import NDNT\n",
    "import NDNT.utils as utils\n",
    "from NDNT.modules.layers import *\n",
    "from NDNT.networks import *\n",
    "import NDNT.NDN as NDN\n",
    "from NTdatasets.conway.synthcloud_datasets import SimCloudData\n",
    "from NTdatasets.generic import GenericDataset\n",
    "from ColorDataUtils.multidata_utils import MultiExperiment\n",
    "import ColorDataUtils.ConwayUtils as CU\n",
    "from ColorDataUtils import readout_fit\n",
    "from ColorDataUtils.simproj_utils import *\n",
    "from NDNT.utils import fit_lbfgs, fit_lbfgs_batch\n",
    "from NDNT.utils import imagesc   \n",
    "from NDNT.utils import ss\n",
    "\n",
    "device = torch.device(\"cuda:1\" if torch.cuda.is_available() else \"cpu\")\n",
    "device0 = torch.device(\"cpu\")\n",
    "dtype = torch.float32\n",
    "\n",
    "%load_ext autoreload\n",
    "%autoreload 2"
   ]
  },
  {
   "cell_type": "markdown",
   "id": "8bcee117-c271-431f-9d99-bbcf29db1fde",
   "metadata": {},
   "source": [
    "## Load Data"
   ]
  },
  {
   "cell_type": "code",
   "execution_count": 2,
   "id": "91bb565a-01d1-4147-86c6-fdf4d27d611b",
   "metadata": {},
   "outputs": [],
   "source": [
    "# Load RF center and cell key\n",
    "out_file = 'data/cloud_data_stim_dim120_robs_sqrad_0.3.hdf5' #'data/cloud_data_stim_dim80_robs_sqrad_0.1.hdf5'\n",
    "with h5py.File(out_file, 'r') as f:\n",
    "    x_pos = f['x_pos'][:]\n",
    "    y_pos = f['y_pos'][:]\n",
    "    cell_key = [str(f['cell_key'][:][i], encoding='utf-8') for i in range(x_pos.shape[0])]\n",
    "    file_start_pos = list(f['file_start_pos'][:])"
   ]
  },
  {
   "cell_type": "code",
   "execution_count": 4,
   "id": "c7e05685-7eb9-4373-8934-427a95b3553a",
   "metadata": {},
   "outputs": [
    {
     "name": "stdout",
     "output_type": "stream",
     "text": [
      "LGN cells: 214\n",
      "V1 cells: 1491\n"
     ]
    }
   ],
   "source": [
    "# cell specific indices\n",
    "LGN_idx = [i for i, val in enumerate(cell_key) if val == 'X_ON' or val == 'X_OFF']\n",
    "V1_idx  = [i for i, val in enumerate(cell_key) if val == 'V1_Exc_L4' or val == 'V1_Inh_L4' or val == 'V1_Exc_L2/3' or val == 'V1_Inh_L2/3']\n",
    "print('LGN cells:', len(LGN_idx))\n",
    "print('V1 cells:', len(V1_idx))"
   ]
  },
  {
   "cell_type": "code",
   "execution_count": 5,
   "id": "901d6812-1fb2-473f-9abf-d9bc79f47707",
   "metadata": {},
   "outputs": [
    {
     "name": "stdout",
     "output_type": "stream",
     "text": [
      "CPU Time 54.71397280693054 sec\n"
     ]
    }
   ],
   "source": [
    "#out_file = 'data/cloud_data_stim_dim120_robs_sqrad_0.3.hdf5'\n",
    "start    = time.time()\n",
    "data     = SimCloudData(file_name=out_file, down_sample=2, cell_idx=V1_idx, num_lags=11)\n",
    "end      = time.time()\n",
    "print('CPU Time', end-start, 'sec')"
   ]
  },
  {
   "cell_type": "code",
   "execution_count": 6,
   "id": "1f00af0e-75a1-4aba-b369-c47f1c94654b",
   "metadata": {},
   "outputs": [
    {
     "name": "stdout",
     "output_type": "stream",
     "text": [
      "stim_dims = [1, 60, 60, 1]\n",
      "num_lags = 11\n",
      "L = 60\n",
      "Number of cells 1491\n",
      "Number of time points 510000\n"
     ]
    }
   ],
   "source": [
    "stim_dims = data.stim_dims\n",
    "num_lags = data.num_lags\n",
    "L  = stim_dims[1]\n",
    "NC = data[0]['robs'].shape[1]\n",
    "NT = data.NT\n",
    "print('stim_dims =', stim_dims)\n",
    "print('num_lags =', num_lags)\n",
    "print('L =', L)\n",
    "print('Number of cells', NC)\n",
    "print('Number of time points', NT)"
   ]
  },
  {
   "cell_type": "code",
   "execution_count": 7,
   "id": "44cc410c-dbb7-4295-8a87-3ed43b7215c8",
   "metadata": {},
   "outputs": [
    {
     "name": "stdout",
     "output_type": "stream",
     "text": [
      "Spatial mu0: (794, 2)\n"
     ]
    }
   ],
   "source": [
    "pxl_x_pos, pxl_y_pos = deg2pxl(x_pos[L4_idx], y_pos[L4_idx], L, down_sample=2)\n",
    "mu0s = utils.pixel2grid(np.stack((pxl_x_pos,pxl_y_pos),axis=1), L=L)\n",
    "print('Spatial mu0:', mu0s.shape)"
   ]
  },
  {
   "cell_type": "markdown",
   "id": "b9ff52c7-5206-4222-8198-99d506bdb3fd",
   "metadata": {},
   "source": [
    "## GQM"
   ]
  },
  {
   "cell_type": "code",
   "execution_count": 9,
   "id": "476cda58-a762-4da7-aaab-95135ad10da0",
   "metadata": {},
   "outputs": [],
   "source": [
    "Treg = 1\n",
    "XregL, XregQ = 10000.0, 10.0\n",
    "LOCregL, LOCregQ = 10.0, 1000.0\n",
    "L1regL, L1regQ = 1.0, None\n",
    "\n",
    "# linear layer\n",
    "glm_layer = Tlayer.layer_dict( \n",
    "    input_dims = data.stim_dims, num_filters=1, bias=False, norm_type=0, \n",
    "    NLtype='lin', initialize_center=True, num_lags=data.num_lags,\n",
    "    reg_vals= {'d2x': XregL, 'd2t': Treg, 'l1': L1regL, 'glocalx': LOCregL,'edge_t':10, 'bcs':{'d2t':1, 'd2x':1}} )\n",
    "\n",
    "# quadratic layer\n",
    "gqm_layer = Tlayer.layer_dict( \n",
    "    input_dims = data.stim_dims, num_filters=2, bias=False, norm_type=0, \n",
    "    NLtype='square', initialize_center=True, num_lags=data.num_lags,\n",
    "    reg_vals= {'d2x': XregQ, 'd2t': Treg, 'l1': L1regQ, 'glocalx': LOCregQ,'edge_t':10, 'bcs':{'d2t':1, 'd2x':1}} )\n",
    "\n",
    "# set up linear and quadratic network\n",
    "lin_net =  FFnetwork.ffnet_dict( xstim_n='stim', layer_list = [glm_layer] )\n",
    "quad_net =  FFnetwork.ffnet_dict( xstim_n='stim', layer_list = [gqm_layer] )\n",
    "\n",
    "# NDN layer that combines quadratic and linear layer\n",
    "comb_layer = NDNLayer.layer_dict( num_filters=1, NLtype='softplus', bias=True)\n",
    "comb_layer['weights_initializer'] = 'ones'\n",
    "\n",
    "# set up combination network\n",
    "comb_net = FFnetwork.ffnet_dict( xstim_n=None, ffnet_n=[0,1], layer_list=[comb_layer])"
   ]
  },
  {
   "cell_type": "code",
   "execution_count": null,
   "id": "5b692746-d340-4727-975c-673529b9263d",
   "metadata": {},
   "outputs": [],
   "source": [
    "gqms = []\n",
    "for i in range(NC):\n",
    "    gdata = GenericDataset( {'stim': data[data.train_blks]['stim'], \n",
    "                         'robs': data[data.train_blks]['robs'][:,i], \n",
    "                         'dfs':data[data.train_blks]['dfs'][:,i]}, device=device)\n",
    "\n",
    "    \n",
    "    gqm = NDN( ffnet_list = [lin_net, quad_net, comb_net], loss_type='poisson')\n",
    "    gqm.set_parameters(val=False,name='weight',ffnet_target=2)\n",
    "    \n",
    "    gqm = gqm.to(device)\n",
    "    fit_lbfgs(gqm, gdata[:], verbose=False)\n",
    "    gqm = gqm.to(device0)\n",
    "    gqms.append(gqm)\n",
    "    print('Cell', i, 'GQM complete')\n",
    "\n",
    "    gdata = None"
   ]
  }
 ],
 "metadata": {
  "kernelspec": {
   "display_name": "Python 3 (ipykernel)",
   "language": "python",
   "name": "python3"
  },
  "language_info": {
   "codemirror_mode": {
    "name": "ipython",
    "version": 3
   },
   "file_extension": ".py",
   "mimetype": "text/x-python",
   "name": "python",
   "nbconvert_exporter": "python",
   "pygments_lexer": "ipython3",
   "version": "3.12.4"
  }
 },
 "nbformat": 4,
 "nbformat_minor": 5
}
