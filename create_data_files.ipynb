{
 "cells": [
  {
   "cell_type": "markdown",
   "id": "fa6cc5f1-099a-4e17-af84-39960a971712",
   "metadata": {},
   "source": [
    "# Create Data Files"
   ]
  },
  {
   "cell_type": "code",
   "execution_count": 1,
   "id": "612c17e9-cf4a-4fc4-8b55-c2b27e6e50e0",
   "metadata": {},
   "outputs": [
    {
     "name": "stdout",
     "output_type": "stream",
     "text": [
      "Running on Computer: [sc]\n",
      "Invoking __init__.py for NDNT.utils\n"
     ]
    }
   ],
   "source": [
    "import sys\n",
    "import os\n",
    "\n",
    "myhost = os.uname()[1]\n",
    "print(\"Running on Computer: [%s]\" %myhost)\n",
    "\n",
    "sys.path.insert(0, '/home/ifernand/Code/') \n",
    "dirname = '/home/ifernand/Cloud_SynthData_Proj'\n",
    "\n",
    "import numpy as np\n",
    "from copy import deepcopy\n",
    "import matplotlib.pyplot as plt\n",
    "from scipy import io as sio\n",
    "import seaborn as sns\n",
    "import torch\n",
    "import time\n",
    "import h5py\n",
    "\n",
    "# NDN tools\n",
    "import NDNT\n",
    "import NDNT.utils as utils\n",
    "from NDNT.modules.layers import *\n",
    "from NDNT.networks import *\n",
    "import NDNT.NDN as NDN\n",
    "from NTdatasets.conway.synthcloud_datasets import SimCloudData, OLD_SimCloudData\n",
    "from NTdatasets.generic import GenericDataset\n",
    "from ColorDataUtils.multidata_utils import MultiExperiment\n",
    "import ColorDataUtils.ConwayUtils as CU\n",
    "from ColorDataUtils import readout_fit\n",
    "from ColorDataUtils.simproj_utils import *\n",
    "from NDNT.utils import fit_lbfgs, fit_lbfgs_batch\n",
    "from NDNT.utils import imagesc   \n",
    "from NDNT.utils import ss\n",
    "from NDNT.utils import subplot_setup\n",
    "from NDNT.utils import figure_export\n",
    "\n",
    "%load_ext autoreload\n",
    "%autoreload 2"
   ]
  },
  {
   "cell_type": "markdown",
   "id": "6ad0df67-75b3-43bd-9fc5-7f89c00d4427",
   "metadata": {},
   "source": [
    "## Pull Data"
   ]
  },
  {
   "cell_type": "code",
   "execution_count": 2,
   "id": "bf30c57f-aab0-4b52-809a-9104fb0ec6eb",
   "metadata": {
    "scrolled": true
   },
   "outputs": [
    {
     "name": "stdout",
     "output_type": "stream",
     "text": [
      "++INFO: stimuli of shape (510000, 120, 120)\n",
      "++INFO: Cell type order ['X_ON', 'X_OFF', 'V1_Exc_L4', 'V1_Inh_L4', 'V1_Exc_L2/3', 'V1_Inh_L2/3']\n",
      "++INFO: 105 X_ON chosen\n",
      "++INFO: 109 X_OFF chosen\n",
      "++INFO: 607 V1_Exc_L4 chosen\n",
      "++INFO: 187 V1_Inh_L4 chosen\n",
      "++INFO: 535 V1_Exc_L2/3 chosen\n",
      "++INFO: 162 V1_Inh_L2/3 chosen\n",
      "++INFO: File 0 spike time added\n",
      "++INFO: File 1 spike time added\n",
      "++INFO: File 2 spike time added\n",
      "++INFO: File 3 spike time added\n",
      "++INFO: File 4 spike time added\n",
      "++INFO: File 5 spike time added\n",
      "++INFO: File 6 spike time added\n",
      "++INFO: File 7 spike time added\n",
      "++INFO: File 8 spike time added\n",
      "++INFO: File 9 spike time added\n",
      "++INFO: File 10 spike time added\n",
      "++INFO: File 11 spike time added\n",
      "++INFO: File 12 spike time added\n",
      "++INFO: File 13 spike time added\n",
      "++INFO: File 14 spike time added\n",
      "++INFO: File 15 spike time added\n",
      "++INFO: File 16 spike time added\n",
      "++INFO: File 17 spike time added\n",
      "++INFO: File 18 spike time added\n",
      "++INFO: File 19 spike time added\n",
      "++INFO: File 20 spike time added\n",
      "++INFO: File 21 spike time added\n",
      "++INFO: File 22 spike time added\n",
      "++INFO: File 23 spike time added\n",
      "++INFO: File 24 spike time added\n",
      "++INFO: File 25 spike time added\n",
      "++INFO: File 26 spike time added\n",
      "++INFO: Data file created: data/cloud_data_stim_dim120_spike_time_sqrad_0.3.hdf5\n",
      "CPU Time 274.5345845222473 sec\n"
     ]
    }
   ],
   "source": [
    "from utils.create_data_func import pull_data2\n",
    "start = time.time()\n",
    "pull_data2(cell_sq_rad=0.3, stim_dim=120)\n",
    "end   = time.time()\n",
    "print('CPU Time', end-start, 'sec')"
   ]
  },
  {
   "cell_type": "code",
   "execution_count": null,
   "id": "fd38cf4d-cd36-4215-b36b-47e182747ef4",
   "metadata": {},
   "outputs": [],
   "source": []
  },
  {
   "cell_type": "code",
   "execution_count": 2,
   "id": "8a7d54f4-5052-41c2-8c28-26b2443c309c",
   "metadata": {
    "collapsed": true,
    "jupyter": {
     "outputs_hidden": true
    },
    "scrolled": true
   },
   "outputs": [
    {
     "name": "stdout",
     "output_type": "stream",
     "text": [
      "++INFO: stimuli of shape (510000, 120, 120)\n",
      "++INFO: Cell type order ['X_ON', 'X_OFF', 'V1_Exc_L4', 'V1_Inh_L4', 'V1_Exc_L2/3', 'V1_Inh_L2/3']\n",
      "++INFO: 105 X_ON chosen\n",
      "++INFO: 109 X_OFF chosen\n",
      "++INFO: 607 V1_Exc_L4 chosen\n",
      "++INFO: 187 V1_Inh_L4 chosen\n",
      "++INFO: 535 V1_Exc_L2/3 chosen\n",
      "++INFO: 162 V1_Inh_L2/3 chosen\n",
      "++INFO: File 0 robs added\n",
      "++INFO: File 1 robs added\n",
      "++INFO: File 2 robs added\n",
      "++INFO: File 3 robs added\n",
      "++INFO: File 4 robs added\n",
      "++INFO: File 5 robs added\n",
      "++INFO: File 6 robs added\n",
      "++INFO: File 7 robs added\n",
      "++INFO: File 8 robs added\n",
      "++INFO: File 9 robs added\n",
      "++INFO: File 10 robs added\n",
      "++INFO: File 11 robs added\n",
      "++INFO: File 12 robs added\n",
      "++INFO: File 13 robs added\n",
      "++INFO: File 14 robs added\n",
      "++INFO: File 15 robs added\n",
      "++INFO: File 16 robs added\n",
      "++INFO: File 17 robs added\n",
      "++INFO: File 18 robs added\n",
      "++INFO: File 19 robs added\n",
      "++INFO: File 20 robs added\n",
      "++INFO: File 21 robs added\n",
      "++INFO: File 22 robs added\n",
      "++INFO: File 23 robs added\n",
      "++INFO: File 24 robs added\n",
      "++INFO: File 25 robs added\n",
      "++INFO: File 26 robs added\n",
      "++INFO: Data file created: data/cloud_data_stim_dim120_robs_sqrad_0.3.hdf5\n",
      "CPU Time 300.3282964229584 sec\n"
     ]
    }
   ],
   "source": [
    "from utils.create_data_func import pull_data\n",
    "start = time.time()\n",
    "pull_data(robs_sq_rad=0.3, stim_dim=120)\n",
    "end   = time.time()\n",
    "print('CPU Time', end-start, 'sec')"
   ]
  },
  {
   "cell_type": "code",
   "execution_count": 3,
   "id": "f510b052-e7db-4dd7-a2dd-e7ebfd725ce4",
   "metadata": {
    "collapsed": true,
    "jupyter": {
     "outputs_hidden": true
    }
   },
   "outputs": [
    {
     "name": "stdout",
     "output_type": "stream",
     "text": [
      "++INFO: stimuli of shape (170000, 120, 120)\n",
      "++INFO: Cell type order ['X_ON', 'X_OFF', 'V1_Exc_L4', 'V1_Inh_L4', 'V1_Exc_L2/3', 'V1_Inh_L2/3']\n",
      "++INFO: 105 X_ON chosen\n",
      "++INFO: 109 X_OFF chosen\n",
      "++INFO: 607 V1_Exc_L4 chosen\n",
      "++INFO: 187 V1_Inh_L4 chosen\n",
      "++INFO: 535 V1_Exc_L2/3 chosen\n",
      "++INFO: 162 V1_Inh_L2/3 chosen\n",
      "++INFO: File 0 robs added\n",
      "++INFO: File 1 robs added\n",
      "++INFO: File 2 robs added\n",
      "++INFO: File 3 robs added\n",
      "++INFO: File 4 robs added\n",
      "++INFO: File 5 robs added\n",
      "++INFO: File 6 robs added\n",
      "++INFO: File 7 robs added\n",
      "++INFO: File 8 robs added\n",
      "++INFO: Data file created: data/cloud_data_stim_dim120_robs_sqrad_0.3_sca=3.hdf5\n",
      "CPU Time 90.5033872127533 sec\n"
     ]
    }
   ],
   "source": [
    "from utils.create_data_func import pull_data\n",
    "start = time.time()\n",
    "pull_data(robs_sq_rad=0.3, stim_dim=120, scale=3)\n",
    "end   = time.time()\n",
    "print('CPU Time', end-start, 'sec')"
   ]
  },
  {
   "cell_type": "code",
   "execution_count": 4,
   "id": "12c37abe-c781-4a27-bc01-7441b485b932",
   "metadata": {
    "collapsed": true,
    "jupyter": {
     "outputs_hidden": true
    }
   },
   "outputs": [
    {
     "name": "stdout",
     "output_type": "stream",
     "text": [
      "++INFO: stimuli of shape (170000, 120, 120)\n",
      "++INFO: Cell type order ['X_ON', 'X_OFF', 'V1_Exc_L4', 'V1_Inh_L4', 'V1_Exc_L2/3', 'V1_Inh_L2/3']\n",
      "++INFO: 105 X_ON chosen\n",
      "++INFO: 109 X_OFF chosen\n",
      "++INFO: 607 V1_Exc_L4 chosen\n",
      "++INFO: 187 V1_Inh_L4 chosen\n",
      "++INFO: 535 V1_Exc_L2/3 chosen\n",
      "++INFO: 162 V1_Inh_L2/3 chosen\n",
      "++INFO: File 0 robs added\n",
      "++INFO: File 1 robs added\n",
      "++INFO: File 2 robs added\n",
      "++INFO: File 3 robs added\n",
      "++INFO: File 4 robs added\n",
      "++INFO: File 5 robs added\n",
      "++INFO: File 6 robs added\n",
      "++INFO: File 7 robs added\n",
      "++INFO: File 8 robs added\n",
      "++INFO: Data file created: data/cloud_data_stim_dim120_robs_sqrad_0.3_sca=6.hdf5\n",
      "CPU Time 93.17553687095642 sec\n"
     ]
    }
   ],
   "source": [
    "from utils.create_data_func import pull_data\n",
    "start = time.time()\n",
    "pull_data(robs_sq_rad=0.3, stim_dim=120, scale=6)\n",
    "end   = time.time()\n",
    "print('CPU Time', end-start, 'sec')"
   ]
  },
  {
   "cell_type": "code",
   "execution_count": 5,
   "id": "e15c5519-22c1-4a63-b459-11b3d3def05c",
   "metadata": {
    "collapsed": true,
    "jupyter": {
     "outputs_hidden": true,
     "source_hidden": true
    }
   },
   "outputs": [
    {
     "name": "stdout",
     "output_type": "stream",
     "text": [
      "++INFO: stimuli of shape (170000, 120, 120)\n",
      "++INFO: Cell type order ['X_ON', 'X_OFF', 'V1_Exc_L4', 'V1_Inh_L4', 'V1_Exc_L2/3', 'V1_Inh_L2/3']\n",
      "++INFO: 105 X_ON chosen\n",
      "++INFO: 109 X_OFF chosen\n",
      "++INFO: 607 V1_Exc_L4 chosen\n",
      "++INFO: 187 V1_Inh_L4 chosen\n",
      "++INFO: 535 V1_Exc_L2/3 chosen\n",
      "++INFO: 162 V1_Inh_L2/3 chosen\n",
      "++INFO: File 0 robs added\n",
      "++INFO: File 1 robs added\n",
      "++INFO: File 2 robs added\n",
      "++INFO: File 3 robs added\n",
      "++INFO: File 4 robs added\n",
      "++INFO: File 5 robs added\n",
      "++INFO: File 6 robs added\n",
      "++INFO: File 7 robs added\n",
      "++INFO: File 8 robs added\n",
      "++INFO: Data file created: data/cloud_data_stim_dim120_robs_sqrad_0.3_sca=9.hdf5\n",
      "CPU Time 89.61282753944397 sec\n"
     ]
    }
   ],
   "source": [
    "from utils.create_data_func import pull_data\n",
    "start = time.time()\n",
    "pull_data(robs_sq_rad=0.3, stim_dim=120, scale=9)\n",
    "end   = time.time()\n",
    "print('CPU Time', end-start, 'sec')"
   ]
  },
  {
   "cell_type": "markdown",
   "id": "73f3ac6e-a9f7-4ad6-bdf1-fdc845c045b7",
   "metadata": {},
   "source": [
    "## Look at Data File"
   ]
  },
  {
   "cell_type": "code",
   "execution_count": 3,
   "id": "d43e47e4-445e-46c0-876f-9f5508c9f5e1",
   "metadata": {},
   "outputs": [],
   "source": [
    "out_file = 'data/cloud_data_stim_dim120_spike_time_sqrad_0.3.hdf5'\n",
    "with h5py.File(out_file, 'r') as f:\n",
    "    stim = f['stim'][:]\n",
    "    x_pos = f['x_pos'][:]\n",
    "    y_pos = f['y_pos'][:]\n",
    "    cell_key = [str(f['cell_key'][:][i], encoding='utf-8') for i in range(x_pos.shape[0])]\n",
    "    file_start_pos = list(f['file_start_pos'][:])\n",
    "    spike_times = []\n",
    "    for i in range(x_pos.shape[0]):\n",
    "        spike_times.append(f['spike_time_cell_'+str(i)][:])"
   ]
  },
  {
   "cell_type": "code",
   "execution_count": 3,
   "id": "951a4ca9-a253-4ad7-b1e3-6f6a394f5118",
   "metadata": {},
   "outputs": [
    {
     "data": {
      "text/plain": [
       "1705"
      ]
     },
     "execution_count": 3,
     "metadata": {},
     "output_type": "execute_result"
    }
   ],
   "source": [
    "len(spike_times)"
   ]
  },
  {
   "cell_type": "code",
   "execution_count": 4,
   "id": "30320453-565d-4aba-bafe-c6265fcd8516",
   "metadata": {},
   "outputs": [
    {
     "data": {
      "text/plain": [
       "(27,)"
      ]
     },
     "execution_count": 4,
     "metadata": {},
     "output_type": "execute_result"
    }
   ],
   "source": [
    "np.where(spike_times[0] == -1)[0].shape"
   ]
  },
  {
   "cell_type": "code",
   "execution_count": 5,
   "id": "7dee4f04-2405-4b7c-b0cc-492d88e8ee46",
   "metadata": {},
   "outputs": [
    {
     "data": {
      "text/plain": [
       "(510000, 14400)"
      ]
     },
     "execution_count": 5,
     "metadata": {},
     "output_type": "execute_result"
    }
   ],
   "source": [
    "stim.shape"
   ]
  },
  {
   "cell_type": "code",
   "execution_count": 6,
   "id": "df201322-400e-452c-93b9-6cae0d0cccb0",
   "metadata": {},
   "outputs": [
    {
     "data": {
      "text/plain": [
       "[0,\n",
       " 20000,\n",
       " 40000,\n",
       " 60000,\n",
       " 80000,\n",
       " 100000,\n",
       " 120000,\n",
       " 140000,\n",
       " 160000,\n",
       " 180000,\n",
       " 200000,\n",
       " 220000,\n",
       " 240000,\n",
       " 260000,\n",
       " 270000,\n",
       " 290000,\n",
       " 310000,\n",
       " 330000,\n",
       " 350000,\n",
       " 360000,\n",
       " 370000,\n",
       " 390000,\n",
       " 410000,\n",
       " 430000,\n",
       " 450000,\n",
       " 470000,\n",
       " 490000]"
      ]
     },
     "execution_count": 6,
     "metadata": {},
     "output_type": "execute_result"
    }
   ],
   "source": [
    "file_start_pos"
   ]
  },
  {
   "cell_type": "code",
   "execution_count": 14,
   "id": "80cd7d8e-9ca4-49c7-bc00-85b5f6c8e8a3",
   "metadata": {},
   "outputs": [],
   "source": [
    "# Compute robs from spike times\n",
    "dt = 16\n",
    "NC = x_pos.shape[0]\n",
    "T_full = int((16/dt)*stim.shape[0])\n",
    "robs = np.zeros((T_full,NC)).astype(np.uint8)\n",
    "for i in range(NC):\n",
    "    cell_spike_times = spike_times[i]\n",
    "    trial_idx = list(np.where(cell_spike_times == -1)[0])\n",
    "    start = 0\n",
    "    for j in range(len(trial_idx)):\n",
    "        if j == 0:\n",
    "            NT = int((16/dt)*(file_start_pos[j+1] - file_start_pos[j]))\n",
    "            trial_spike_times = cell_spike_times[:trial_idx[j]]            \n",
    "        elif j == len(trial_idx)-1:\n",
    "            NT = int((16/dt)*(stim.shape[0] - file_start_pos[j]))\n",
    "            trial_spike_times = cell_spike_times[trial_idx[j-1]+1:trial_idx[j]]\n",
    "        else:\n",
    "            NT = int((16/dt)*(file_start_pos[j+1] - file_start_pos[j]))\n",
    "            trial_spike_times = cell_spike_times[trial_idx[j-1]+1:trial_idx[j]]\n",
    "        spikes = np.histogram(trial_spike_times, bins=NT, range=(0,int(dt*NT)))[0].astype(np.uint8)\n",
    "        robs[start:start+NT,i] = spikes\n",
    "        start += NT"
   ]
  },
  {
   "cell_type": "code",
   "execution_count": 15,
   "id": "706369c4-08a6-4a83-86cd-2810654be8a0",
   "metadata": {},
   "outputs": [
    {
     "data": {
      "text/plain": [
       "(510000, 1705)"
      ]
     },
     "execution_count": 15,
     "metadata": {},
     "output_type": "execute_result"
    }
   ],
   "source": [
    "robs.shape"
   ]
  },
  {
   "cell_type": "code",
   "execution_count": 4,
   "id": "d75182d8-d903-4c58-842a-7f752f410d3d",
   "metadata": {},
   "outputs": [],
   "source": [
    "out_file2 = 'data/cloud_data_stim_dim120_robs_sqrad_0.3.hdf5'\n",
    "with h5py.File(out_file2, 'r') as f:\n",
    "    stim2 = f['stim'][:]\n",
    "    file_start_pos2 = list(f['file_start_pos'][:])\n",
    "    robs2 = f['robs'][:]"
   ]
  },
  {
   "cell_type": "code",
   "execution_count": 5,
   "id": "56c6afa4-151c-48ee-a60d-47656d01bb5e",
   "metadata": {},
   "outputs": [
    {
     "data": {
      "text/plain": [
       "0"
      ]
     },
     "execution_count": 5,
     "metadata": {},
     "output_type": "execute_result"
    }
   ],
   "source": [
    "np.sum(stim!=stim2)"
   ]
  },
  {
   "cell_type": "code",
   "execution_count": 6,
   "id": "d1b69ef6-f512-4937-a52c-4224fbec5c3f",
   "metadata": {},
   "outputs": [
    {
     "data": {
      "text/plain": [
       "True"
      ]
     },
     "execution_count": 6,
     "metadata": {},
     "output_type": "execute_result"
    }
   ],
   "source": [
    "file_start_pos == file_start_pos2"
   ]
  },
  {
   "cell_type": "code",
   "execution_count": 8,
   "id": "6280855b-cd39-4f1e-9c2a-5c4d8a1275b3",
   "metadata": {},
   "outputs": [
    {
     "data": {
      "text/plain": [
       "[0,\n",
       " 20000,\n",
       " 40000,\n",
       " 60000,\n",
       " 80000,\n",
       " 100000,\n",
       " 120000,\n",
       " 140000,\n",
       " 160000,\n",
       " 180000,\n",
       " 200000,\n",
       " 220000,\n",
       " 240000,\n",
       " 260000,\n",
       " 270000,\n",
       " 290000,\n",
       " 310000,\n",
       " 330000,\n",
       " 350000,\n",
       " 360000,\n",
       " 370000,\n",
       " 390000,\n",
       " 410000,\n",
       " 430000,\n",
       " 450000,\n",
       " 470000,\n",
       " 490000]"
      ]
     },
     "execution_count": 8,
     "metadata": {},
     "output_type": "execute_result"
    }
   ],
   "source": [
    "file_start_pos"
   ]
  },
  {
   "cell_type": "code",
   "execution_count": null,
   "id": "92b24b52-ee0e-4302-ae34-bb672098e8f7",
   "metadata": {},
   "outputs": [],
   "source": []
  },
  {
   "cell_type": "code",
   "execution_count": 12,
   "id": "e997824b-5945-40ec-8287-6d1d25fcb8b3",
   "metadata": {},
   "outputs": [
    {
     "data": {
      "text/plain": [
       "(510000, 1705)"
      ]
     },
     "execution_count": 12,
     "metadata": {},
     "output_type": "execute_result"
    }
   ],
   "source": [
    "robs2.shape"
   ]
  },
  {
   "cell_type": "code",
   "execution_count": 16,
   "id": "e8ed5909-0a15-47ce-bfac-f017ea20d0c2",
   "metadata": {},
   "outputs": [
    {
     "data": {
      "text/plain": [
       "0"
      ]
     },
     "execution_count": 16,
     "metadata": {},
     "output_type": "execute_result"
    }
   ],
   "source": [
    "np.sum(robs!=robs2)"
   ]
  },
  {
   "cell_type": "code",
   "execution_count": 18,
   "id": "664a4eca-fa54-403e-9cbe-3b8c297134e0",
   "metadata": {},
   "outputs": [],
   "source": [
    "NT = T_full\n",
    "block_len = 1000\n",
    "NB = NT//block_len # number of blocks\n",
    "block_inds = np.arange(NT, dtype=np.int64).reshape(NB,block_len) # block indecies"
   ]
  },
  {
   "cell_type": "code",
   "execution_count": 19,
   "id": "ee815226-8929-47f7-8ece-79d77cc31a39",
   "metadata": {},
   "outputs": [
    {
     "data": {
      "text/plain": [
       "510"
      ]
     },
     "execution_count": 19,
     "metadata": {},
     "output_type": "execute_result"
    }
   ],
   "source": [
    "NB"
   ]
  },
  {
   "cell_type": "code",
   "execution_count": 21,
   "id": "81570df0-ca96-444a-8cbd-0a640e54f098",
   "metadata": {},
   "outputs": [
    {
     "data": {
      "text/plain": [
       "array([[     0,      1,      2, ...,    997,    998,    999],\n",
       "       [  1000,   1001,   1002, ...,   1997,   1998,   1999],\n",
       "       [  2000,   2001,   2002, ...,   2997,   2998,   2999],\n",
       "       ...,\n",
       "       [507000, 507001, 507002, ..., 507997, 507998, 507999],\n",
       "       [508000, 508001, 508002, ..., 508997, 508998, 508999],\n",
       "       [509000, 509001, 509002, ..., 509997, 509998, 509999]])"
      ]
     },
     "execution_count": 21,
     "metadata": {},
     "output_type": "execute_result"
    }
   ],
   "source": [
    "block_inds"
   ]
  },
  {
   "cell_type": "code",
   "execution_count": null,
   "id": "d0535a42-20ea-4c4b-9292-22334d54e1ae",
   "metadata": {},
   "outputs": [],
   "source": [
    "def low_to_high_index(low_index, T, dt):\n",
    "    \"\"\"Convert an index from the low-resolution dataset (0 to T) to the high-resolution dataset (0 to 2T).\"\"\"\n",
    "    return int(((16//dt) * low_index * ((16//dt) * T)) // T)\n",
    "\n",
    "def high_to_low_index(high_index, T):\n",
    "    \"\"\"Convert an index from the high-resolution dataset (0 to 2T) to the low-resolution dataset (0 to T).\"\"\"\n",
    "    return int((high_index * T) // ((16//dt) * T))"
   ]
  },
  {
   "cell_type": "code",
   "execution_count": 34,
   "id": "da6de38e-c7d2-4aab-ae68-156fe0b3315e",
   "metadata": {},
   "outputs": [
    {
     "data": {
      "text/plain": [
       "array([ 0,  1,  2,  3,  4, 10, 11, 12, 13, 14])"
      ]
     },
     "execution_count": 34,
     "metadata": {},
     "output_type": "execute_result"
    }
   ],
   "source": [
    "high_idx = np.array([0,1,2,3,4,5,6,7,8,9,20,21,22,23,24,25,26,27,28,29])\n",
    "high_idx[np.where(high_idx%2 == 0)[0]]//2"
   ]
  },
  {
   "cell_type": "code",
   "execution_count": 37,
   "id": "8308361b-e98f-4aaa-aad6-8d01ab68ac9e",
   "metadata": {},
   "outputs": [
    {
     "data": {
      "text/plain": [
       "(100, 10)"
      ]
     },
     "execution_count": 37,
     "metadata": {},
     "output_type": "execute_result"
    }
   ],
   "source": [
    "sub_stim = stim[:100,:10]\n",
    "sub_stim.shape"
   ]
  },
  {
   "cell_type": "code",
   "execution_count": 39,
   "id": "b5c5ad79-4cef-40b6-a287-86e6d0a6f9e7",
   "metadata": {},
   "outputs": [
    {
     "data": {
      "text/plain": [
       "array([[163, 163, 162, ..., 160, 162, 165],\n",
       "       [163, 163, 162, ..., 160, 162, 165],\n",
       "       [ 87,  98, 108, ..., 123, 120, 115],\n",
       "       ...,\n",
       "       [158, 163, 167, ..., 159, 151, 142],\n",
       "       [135, 134, 132, ..., 111, 105, 101],\n",
       "       [135, 134, 132, ..., 111, 105, 101]], dtype=uint8)"
      ]
     },
     "execution_count": 39,
     "metadata": {},
     "output_type": "execute_result"
    }
   ],
   "source": [
    "np.repeat(sub_stim,2,axis=0)"
   ]
  },
  {
   "cell_type": "markdown",
   "id": "fa857a6e-3860-42bc-bc92-7401101355f5",
   "metadata": {},
   "source": [
    "## Generic Data Module"
   ]
  },
  {
   "cell_type": "code",
   "execution_count": 18,
   "id": "6d4a3980-dfbc-476c-b30f-987e231178f3",
   "metadata": {},
   "outputs": [
    {
     "name": "stdout",
     "output_type": "stream",
     "text": [
      "CPU Time 65.52293825149536 sec\n"
     ]
    }
   ],
   "source": [
    "start    = time.time()\n",
    "data_ds  = SimCloudData(cell_type_list=['V1_Exc_L4', 'V1_Inh_L4', 'V1_Exc_L2/3', 'V1_Inh_L2/3'], dt=8, down_sample=2)\n",
    "end      = time.time()\n",
    "print('CPU Time', end-start, 'sec')"
   ]
  },
  {
   "cell_type": "code",
   "execution_count": 19,
   "id": "0536ef73-430c-473b-9ee5-277e7c979f02",
   "metadata": {},
   "outputs": [
    {
     "data": {
      "text/plain": [
       "torch.Size([1020000, 3600])"
      ]
     },
     "execution_count": 19,
     "metadata": {},
     "output_type": "execute_result"
    }
   ],
   "source": [
    "data_ds[:]['stim'].shape"
   ]
  },
  {
   "cell_type": "code",
   "execution_count": 20,
   "id": "04e781a1-874d-41c8-ae04-e945e05ad31d",
   "metadata": {},
   "outputs": [
    {
     "data": {
      "text/plain": [
       "torch.Size([1020000, 1491])"
      ]
     },
     "execution_count": 20,
     "metadata": {},
     "output_type": "execute_result"
    }
   ],
   "source": [
    "data_ds[:]['robs'].shape"
   ]
  },
  {
   "cell_type": "code",
   "execution_count": 21,
   "id": "771180fc-3544-48fb-9ab7-e96b202357c8",
   "metadata": {},
   "outputs": [
    {
     "data": {
      "text/plain": [
       "1020000"
      ]
     },
     "execution_count": 21,
     "metadata": {},
     "output_type": "execute_result"
    }
   ],
   "source": [
    "510000*2"
   ]
  },
  {
   "cell_type": "code",
   "execution_count": null,
   "id": "ed878f2b-faad-42a2-9bb5-badbd5e3d9e3",
   "metadata": {},
   "outputs": [],
   "source": []
  },
  {
   "cell_type": "code",
   "execution_count": null,
   "id": "750bd04a-a250-4764-be52-c1f9cf3734f7",
   "metadata": {},
   "outputs": [],
   "source": []
  },
  {
   "cell_type": "code",
   "execution_count": 7,
   "id": "c7673cb8-8ca0-418b-9de6-4174ccbf1664",
   "metadata": {},
   "outputs": [
    {
     "name": "stdout",
     "output_type": "stream",
     "text": [
      "CPU Time 49.08924102783203 sec\n"
     ]
    }
   ],
   "source": [
    "start    = time.time()\n",
    "data_ds2  = OLD_SimCloudData(cell_type_list=['V1_Exc_L4', 'V1_Inh_L4', 'V1_Exc_L2/3', 'V1_Inh_L2/3'], down_sample=2)\n",
    "end      = time.time()\n",
    "print('CPU Time', end-start, 'sec')"
   ]
  },
  {
   "cell_type": "code",
   "execution_count": 8,
   "id": "7eaa47b0-5952-470f-94d7-1103b4c7c4be",
   "metadata": {},
   "outputs": [
    {
     "name": "stdout",
     "output_type": "stream",
     "text": [
      "1\n"
     ]
    },
    {
     "data": {
      "text/plain": [
       "torch.Size([510000, 3600])"
      ]
     },
     "execution_count": 8,
     "metadata": {},
     "output_type": "execute_result"
    }
   ],
   "source": [
    "data_ds[:]['stim'].shape"
   ]
  },
  {
   "cell_type": "code",
   "execution_count": 9,
   "id": "ab925210-d822-4620-a50b-3f4c49c581ca",
   "metadata": {},
   "outputs": [
    {
     "data": {
      "text/plain": [
       "torch.Size([510000, 3600])"
      ]
     },
     "execution_count": 9,
     "metadata": {},
     "output_type": "execute_result"
    }
   ],
   "source": [
    "data_ds2[:]['stim'].shape"
   ]
  },
  {
   "cell_type": "code",
   "execution_count": 10,
   "id": "88def164-16a5-4fae-9a45-46bb6c5de94e",
   "metadata": {},
   "outputs": [
    {
     "name": "stdout",
     "output_type": "stream",
     "text": [
      "1\n"
     ]
    },
    {
     "data": {
      "text/plain": [
       "torch.Size([510000, 1491])"
      ]
     },
     "execution_count": 10,
     "metadata": {},
     "output_type": "execute_result"
    }
   ],
   "source": [
    "data_ds[:]['robs'].shape"
   ]
  },
  {
   "cell_type": "code",
   "execution_count": 11,
   "id": "6d54b99a-befc-455d-911b-75c8ee84a7ad",
   "metadata": {},
   "outputs": [
    {
     "data": {
      "text/plain": [
       "torch.Size([510000, 1491])"
      ]
     },
     "execution_count": 11,
     "metadata": {},
     "output_type": "execute_result"
    }
   ],
   "source": [
    "data_ds2[:]['robs'].shape"
   ]
  },
  {
   "cell_type": "code",
   "execution_count": 12,
   "id": "00ce1d51-252d-45f0-bf8a-1f6efb1adc49",
   "metadata": {},
   "outputs": [
    {
     "name": "stdout",
     "output_type": "stream",
     "text": [
      "1\n"
     ]
    },
    {
     "data": {
      "text/plain": [
       "tensor(0)"
      ]
     },
     "execution_count": 12,
     "metadata": {},
     "output_type": "execute_result"
    }
   ],
   "source": [
    "torch.sum(data_ds[:]['robs'] != data_ds2[:]['robs'])"
   ]
  },
  {
   "cell_type": "code",
   "execution_count": 13,
   "id": "cc310aa5-ca08-4222-b4ec-84403c93b2ef",
   "metadata": {},
   "outputs": [
    {
     "name": "stdout",
     "output_type": "stream",
     "text": [
      "1\n"
     ]
    },
    {
     "data": {
      "text/plain": [
       "tensor(0)"
      ]
     },
     "execution_count": 13,
     "metadata": {},
     "output_type": "execute_result"
    }
   ],
   "source": [
    "torch.sum(data_ds[:]['stim'] != data_ds2[:]['stim'])"
   ]
  },
  {
   "cell_type": "code",
   "execution_count": null,
   "id": "aa6d63df-8178-4c50-b305-08b4ae390219",
   "metadata": {},
   "outputs": [],
   "source": []
  },
  {
   "cell_type": "code",
   "execution_count": null,
   "id": "f40c9912-a332-46bd-98ed-fae576b8aaa5",
   "metadata": {},
   "outputs": [],
   "source": []
  },
  {
   "cell_type": "code",
   "execution_count": null,
   "id": "a07d3dd5-1eff-478f-a829-2d3bd6990a04",
   "metadata": {},
   "outputs": [],
   "source": []
  },
  {
   "cell_type": "code",
   "execution_count": null,
   "id": "6f51b612-9088-434e-9bca-faa1929c44a0",
   "metadata": {},
   "outputs": [],
   "source": []
  },
  {
   "cell_type": "code",
   "execution_count": 3,
   "id": "f99f2103-5ff4-45d9-a6a1-f6a578c9de3e",
   "metadata": {},
   "outputs": [
    {
     "data": {
      "text/plain": [
       "torch.Size([510000, 3600])"
      ]
     },
     "execution_count": 3,
     "metadata": {},
     "output_type": "execute_result"
    }
   ],
   "source": [
    "data_ds[:]['stim'].shape"
   ]
  },
  {
   "cell_type": "code",
   "execution_count": 4,
   "id": "00abba27-2afe-42dc-b377-af17eb2eff54",
   "metadata": {},
   "outputs": [
    {
     "data": {
      "text/plain": [
       "torch.Size([510000, 1496])"
      ]
     },
     "execution_count": 4,
     "metadata": {},
     "output_type": "execute_result"
    }
   ],
   "source": [
    "data_ds[:]['robs'].shape"
   ]
  },
  {
   "cell_type": "code",
   "execution_count": 5,
   "id": "232e9118-a10a-4f90-be36-68a881281d23",
   "metadata": {},
   "outputs": [
    {
     "data": {
      "text/plain": [
       "torch.Size([510000, 1496])"
      ]
     },
     "execution_count": 5,
     "metadata": {},
     "output_type": "execute_result"
    }
   ],
   "source": [
    "data_ds[:]['dfs'].shape"
   ]
  },
  {
   "cell_type": "code",
   "execution_count": 13,
   "id": "07a11c09-361d-4efc-bd1f-89dbaf495ec5",
   "metadata": {},
   "outputs": [
    {
     "data": {
      "text/plain": [
       "tensor([0., 0., 0., 0., 0., 0., 0., 0., 0., 0., 0., 0., 1., 1., 1., 1., 1., 1.,\n",
       "        1., 1.])"
      ]
     },
     "execution_count": 13,
     "metadata": {},
     "output_type": "execute_result"
    }
   ],
   "source": [
    "data_ds[:]['dfs'][2000:2020,1]"
   ]
  },
  {
   "cell_type": "code",
   "execution_count": 10,
   "id": "ccab8f72-cb20-4f6e-a7c8-d8e804b3b6bf",
   "metadata": {},
   "outputs": [
    {
     "data": {
      "text/plain": [
       "1000"
      ]
     },
     "execution_count": 10,
     "metadata": {},
     "output_type": "execute_result"
    }
   ],
   "source": [
    "data_ds.block_len"
   ]
  },
  {
   "cell_type": "code",
   "execution_count": 6,
   "id": "81f74d99-08a3-4c8c-9873-6a168d276988",
   "metadata": {},
   "outputs": [
    {
     "data": {
      "text/plain": [
       "510000"
      ]
     },
     "execution_count": 6,
     "metadata": {},
     "output_type": "execute_result"
    }
   ],
   "source": [
    "data_ds.NT"
   ]
  },
  {
   "cell_type": "code",
   "execution_count": 7,
   "id": "744d8b45-0090-49b4-af5e-1f82750efcf7",
   "metadata": {},
   "outputs": [
    {
     "data": {
      "text/plain": [
       "array([  0,   1,   2,   3,   4,   5,   6,   7,   8,   9,  10,  11,  12,\n",
       "        13,  14,  15,  16,  17,  18,  19,  20,  21,  22,  23,  24,  25,\n",
       "        26,  27,  28,  29,  30,  31,  32,  33,  34,  35,  36,  37,  38,\n",
       "        39,  40,  41,  42,  43,  44,  45,  46,  47,  48,  49,  50,  51,\n",
       "        52,  53,  54,  55,  56,  57,  58,  59,  60,  61,  62,  63,  64,\n",
       "        65,  66,  67,  68,  69,  70,  71,  72,  73,  74,  75,  76,  77,\n",
       "        78,  79,  80,  81,  82,  83,  84,  85,  86,  87,  88,  89,  90,\n",
       "        91,  92,  93,  94,  95,  96,  97,  98,  99, 100, 101, 102, 103,\n",
       "       104, 105, 106, 107, 108, 109, 110, 111, 112, 113, 114, 115, 116,\n",
       "       117, 118, 119, 120, 121, 122, 123, 124, 125, 126, 127, 128, 129,\n",
       "       130, 131, 132, 133, 134, 135, 136, 137, 138, 139, 140, 141, 142,\n",
       "       143, 144, 145, 146, 147, 148, 149, 150, 151, 152, 153, 154, 155,\n",
       "       156, 157, 158, 159, 160, 161, 162, 163, 164, 165, 166, 167, 168,\n",
       "       169, 170, 171, 172, 173, 174, 175, 176, 177, 178, 179, 180, 181,\n",
       "       182, 183, 184, 185, 186, 187, 188, 189, 190, 191, 192, 193, 194,\n",
       "       195, 196, 197, 198, 199, 200, 201, 202, 203, 204, 205, 206, 207,\n",
       "       208, 209, 210, 211, 212, 213, 214, 215, 216, 217, 218, 219, 220,\n",
       "       221, 222, 223, 224, 225, 226, 227, 228, 229, 230, 231, 232, 233,\n",
       "       234, 235, 236, 237, 238, 239, 240, 241, 242, 243, 244, 245, 246,\n",
       "       247, 248, 249, 250, 251, 252, 253, 254, 255, 256, 257, 258, 259,\n",
       "       260, 261, 262, 263, 264, 265, 266, 267, 268, 269, 270, 271, 272,\n",
       "       273, 274, 275, 276, 277, 278, 279, 280, 281, 282, 283, 284, 285,\n",
       "       286, 287, 288, 289, 290, 291, 292, 293, 294, 295, 296, 297, 298,\n",
       "       299, 300, 301, 302, 303, 304, 305, 306, 307, 308, 309, 310, 311,\n",
       "       312, 313, 314, 315, 316, 317, 318, 319, 320, 321, 322, 323, 324,\n",
       "       325, 326, 327, 328, 329, 330, 331, 332, 333, 334, 335, 336, 337,\n",
       "       338, 339, 340, 341, 342, 343, 344, 345, 346, 347, 348, 349, 350,\n",
       "       351, 352, 353, 354, 355, 356, 357, 358, 359, 360, 361, 362, 363,\n",
       "       364, 365, 366, 367, 368, 369, 370, 371, 372, 373, 374, 375, 376,\n",
       "       377, 378, 379, 380, 381, 382, 383, 384, 385, 386, 387, 388, 389,\n",
       "       390, 391, 392, 393, 394, 395, 396, 397, 398, 399, 400, 401, 402,\n",
       "       403, 404, 405, 406, 407])"
      ]
     },
     "execution_count": 7,
     "metadata": {},
     "output_type": "execute_result"
    }
   ],
   "source": [
    "data_ds.train_inds"
   ]
  },
  {
   "cell_type": "code",
   "execution_count": 8,
   "id": "8a57047d-0354-417c-935a-b2153dadc0d8",
   "metadata": {},
   "outputs": [
    {
     "data": {
      "text/plain": [
       "array([408, 409, 410, 411, 412, 413, 414, 415, 416, 417, 418, 419, 420,\n",
       "       421, 422, 423, 424, 425, 426, 427, 428, 429, 430, 431, 432, 433,\n",
       "       434, 435, 436, 437, 438, 439, 440, 441, 442, 443, 444, 445, 446,\n",
       "       447, 448, 449, 450, 451, 452, 453, 454, 455, 456, 457, 458, 459,\n",
       "       460, 461, 462, 463, 464, 465, 466, 467, 468, 469, 470, 471, 472,\n",
       "       473, 474, 475, 476, 477, 478, 479, 480, 481, 482, 483, 484, 485,\n",
       "       486, 487, 488, 489, 490, 491, 492, 493, 494, 495, 496, 497, 498,\n",
       "       499, 500, 501, 502, 503, 504, 505, 506, 507, 508, 509])"
      ]
     },
     "execution_count": 8,
     "metadata": {},
     "output_type": "execute_result"
    }
   ],
   "source": [
    "data_ds.val_inds"
   ]
  },
  {
   "cell_type": "code",
   "execution_count": null,
   "id": "9bee49ef-a83b-4bba-bcba-699f70e2e5a3",
   "metadata": {},
   "outputs": [],
   "source": []
  }
 ],
 "metadata": {
  "kernelspec": {
   "display_name": "Python 3 (ipykernel)",
   "language": "python",
   "name": "python3"
  },
  "language_info": {
   "codemirror_mode": {
    "name": "ipython",
    "version": 3
   },
   "file_extension": ".py",
   "mimetype": "text/x-python",
   "name": "python",
   "nbconvert_exporter": "python",
   "pygments_lexer": "ipython3",
   "version": "3.12.4"
  }
 },
 "nbformat": 4,
 "nbformat_minor": 5
}
