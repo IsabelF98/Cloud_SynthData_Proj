{
 "cells": [
  {
   "cell_type": "markdown",
   "id": "fa6cc5f1-099a-4e17-af84-39960a971712",
   "metadata": {},
   "source": [
    "# Create Data Files"
   ]
  },
  {
   "cell_type": "code",
   "execution_count": 1,
   "id": "612c17e9-cf4a-4fc4-8b55-c2b27e6e50e0",
   "metadata": {},
   "outputs": [
    {
     "name": "stdout",
     "output_type": "stream",
     "text": [
      "Running on Computer: [sc]\n"
     ]
    }
   ],
   "source": [
    "import numpy as np\n",
    "import matplotlib.pyplot as plt\n",
    "import pickle\n",
    "import os\n",
    "import sys\n",
    "import h5py\n",
    "import time\n",
    "\n",
    "myhost = os.uname()[1] # get name of machine\n",
    "print(\"Running on Computer: [%s]\" %myhost)\n",
    "if myhost=='ca1':\n",
    "    sys.path.insert(0, '/home/ifernand/Code/')\n",
    "    datadir = '/home/ifernand/Cloud_SynthData_Proj/data/'  \n",
    "    dirname = '/home/ifernand/Cloud_SynthData_Proj/' # Working directory\n",
    "\n",
    "from copy import deepcopy\n",
    "\n",
    "%load_ext autoreload\n",
    "%autoreload 2"
   ]
  },
  {
   "cell_type": "markdown",
   "id": "6ad0df67-75b3-43bd-9fc5-7f89c00d4427",
   "metadata": {},
   "source": [
    "## Pull Data"
   ]
  },
  {
   "cell_type": "code",
   "execution_count": 3,
   "id": "bf30c57f-aab0-4b52-809a-9104fb0ec6eb",
   "metadata": {
    "scrolled": true
   },
   "outputs": [
    {
     "name": "stdout",
     "output_type": "stream",
     "text": [
      "++INFO: stimuli of shape (510000, 120, 120)\n",
      "++INFO: Cell type order ['X_ON', 'X_OFF', 'V1_Exc_L4', 'V1_Inh_L4', 'V1_Exc_L2/3', 'V1_Inh_L2/3']\n",
      "++INFO: 105 X_ON chosen\n",
      "++INFO: 109 X_OFF chosen\n",
      "++INFO: 607 V1_Exc_L4 chosen\n",
      "++INFO: 187 V1_Inh_L4 chosen\n",
      "++INFO: 535 V1_Exc_L2/3 chosen\n",
      "++INFO: 162 V1_Inh_L2/3 chosen\n",
      "++INFO: File 0 spike time added\n",
      "++INFO: File 1 spike time added\n",
      "++INFO: File 2 spike time added\n",
      "++INFO: File 3 spike time added\n",
      "++INFO: File 4 spike time added\n",
      "++INFO: File 5 spike time added\n",
      "++INFO: File 6 spike time added\n",
      "++INFO: File 7 spike time added\n",
      "++INFO: File 8 spike time added\n",
      "++INFO: File 9 spike time added\n",
      "++INFO: File 10 spike time added\n",
      "++INFO: File 11 spike time added\n",
      "++INFO: File 12 spike time added\n",
      "++INFO: File 13 spike time added\n",
      "++INFO: File 14 spike time added\n",
      "++INFO: File 15 spike time added\n",
      "++INFO: File 16 spike time added\n",
      "++INFO: File 17 spike time added\n",
      "++INFO: File 18 spike time added\n",
      "++INFO: File 19 spike time added\n",
      "++INFO: File 20 spike time added\n",
      "++INFO: File 21 spike time added\n",
      "++INFO: File 22 spike time added\n",
      "++INFO: File 23 spike time added\n",
      "++INFO: File 24 spike time added\n",
      "++INFO: File 25 spike time added\n",
      "++INFO: File 26 spike time added\n",
      "++INFO: Data file created: data/cloud_data_stim_dim120_spike_time_sqrad_0.3.hdf5\n",
      "CPU Time 193.36998963356018 sec\n"
     ]
    }
   ],
   "source": [
    "from utils.create_data_func import pull_data2\n",
    "start = time.time()\n",
    "pull_data2(cell_sq_rad=0.3, stim_dim=120)\n",
    "end   = time.time()\n",
    "print('CPU Time', end-start, 'sec')"
   ]
  },
  {
   "cell_type": "code",
   "execution_count": null,
   "id": "fd38cf4d-cd36-4215-b36b-47e182747ef4",
   "metadata": {},
   "outputs": [],
   "source": []
  },
  {
   "cell_type": "code",
   "execution_count": 2,
   "id": "8a7d54f4-5052-41c2-8c28-26b2443c309c",
   "metadata": {
    "collapsed": true,
    "jupyter": {
     "outputs_hidden": true
    },
    "scrolled": true
   },
   "outputs": [
    {
     "name": "stdout",
     "output_type": "stream",
     "text": [
      "++INFO: stimuli of shape (510000, 120, 120)\n",
      "++INFO: Cell type order ['X_ON', 'X_OFF', 'V1_Exc_L4', 'V1_Inh_L4', 'V1_Exc_L2/3', 'V1_Inh_L2/3']\n",
      "++INFO: 105 X_ON chosen\n",
      "++INFO: 109 X_OFF chosen\n",
      "++INFO: 607 V1_Exc_L4 chosen\n",
      "++INFO: 187 V1_Inh_L4 chosen\n",
      "++INFO: 535 V1_Exc_L2/3 chosen\n",
      "++INFO: 162 V1_Inh_L2/3 chosen\n",
      "++INFO: File 0 robs added\n",
      "++INFO: File 1 robs added\n",
      "++INFO: File 2 robs added\n",
      "++INFO: File 3 robs added\n",
      "++INFO: File 4 robs added\n",
      "++INFO: File 5 robs added\n",
      "++INFO: File 6 robs added\n",
      "++INFO: File 7 robs added\n",
      "++INFO: File 8 robs added\n",
      "++INFO: File 9 robs added\n",
      "++INFO: File 10 robs added\n",
      "++INFO: File 11 robs added\n",
      "++INFO: File 12 robs added\n",
      "++INFO: File 13 robs added\n",
      "++INFO: File 14 robs added\n",
      "++INFO: File 15 robs added\n",
      "++INFO: File 16 robs added\n",
      "++INFO: File 17 robs added\n",
      "++INFO: File 18 robs added\n",
      "++INFO: File 19 robs added\n",
      "++INFO: File 20 robs added\n",
      "++INFO: File 21 robs added\n",
      "++INFO: File 22 robs added\n",
      "++INFO: File 23 robs added\n",
      "++INFO: File 24 robs added\n",
      "++INFO: File 25 robs added\n",
      "++INFO: File 26 robs added\n",
      "++INFO: Data file created: data/cloud_data_stim_dim120_robs_sqrad_0.3.hdf5\n",
      "CPU Time 300.3282964229584 sec\n"
     ]
    }
   ],
   "source": [
    "from utils.create_data_func import pull_data\n",
    "start = time.time()\n",
    "pull_data(robs_sq_rad=0.3, stim_dim=120)\n",
    "end   = time.time()\n",
    "print('CPU Time', end-start, 'sec')"
   ]
  },
  {
   "cell_type": "code",
   "execution_count": 3,
   "id": "f510b052-e7db-4dd7-a2dd-e7ebfd725ce4",
   "metadata": {
    "collapsed": true,
    "jupyter": {
     "outputs_hidden": true
    }
   },
   "outputs": [
    {
     "name": "stdout",
     "output_type": "stream",
     "text": [
      "++INFO: stimuli of shape (170000, 120, 120)\n",
      "++INFO: Cell type order ['X_ON', 'X_OFF', 'V1_Exc_L4', 'V1_Inh_L4', 'V1_Exc_L2/3', 'V1_Inh_L2/3']\n",
      "++INFO: 105 X_ON chosen\n",
      "++INFO: 109 X_OFF chosen\n",
      "++INFO: 607 V1_Exc_L4 chosen\n",
      "++INFO: 187 V1_Inh_L4 chosen\n",
      "++INFO: 535 V1_Exc_L2/3 chosen\n",
      "++INFO: 162 V1_Inh_L2/3 chosen\n",
      "++INFO: File 0 robs added\n",
      "++INFO: File 1 robs added\n",
      "++INFO: File 2 robs added\n",
      "++INFO: File 3 robs added\n",
      "++INFO: File 4 robs added\n",
      "++INFO: File 5 robs added\n",
      "++INFO: File 6 robs added\n",
      "++INFO: File 7 robs added\n",
      "++INFO: File 8 robs added\n",
      "++INFO: Data file created: data/cloud_data_stim_dim120_robs_sqrad_0.3_sca=3.hdf5\n",
      "CPU Time 90.5033872127533 sec\n"
     ]
    }
   ],
   "source": [
    "from utils.create_data_func import pull_data\n",
    "start = time.time()\n",
    "pull_data(robs_sq_rad=0.3, stim_dim=120, scale=3)\n",
    "end   = time.time()\n",
    "print('CPU Time', end-start, 'sec')"
   ]
  },
  {
   "cell_type": "code",
   "execution_count": 4,
   "id": "12c37abe-c781-4a27-bc01-7441b485b932",
   "metadata": {
    "collapsed": true,
    "jupyter": {
     "outputs_hidden": true
    }
   },
   "outputs": [
    {
     "name": "stdout",
     "output_type": "stream",
     "text": [
      "++INFO: stimuli of shape (170000, 120, 120)\n",
      "++INFO: Cell type order ['X_ON', 'X_OFF', 'V1_Exc_L4', 'V1_Inh_L4', 'V1_Exc_L2/3', 'V1_Inh_L2/3']\n",
      "++INFO: 105 X_ON chosen\n",
      "++INFO: 109 X_OFF chosen\n",
      "++INFO: 607 V1_Exc_L4 chosen\n",
      "++INFO: 187 V1_Inh_L4 chosen\n",
      "++INFO: 535 V1_Exc_L2/3 chosen\n",
      "++INFO: 162 V1_Inh_L2/3 chosen\n",
      "++INFO: File 0 robs added\n",
      "++INFO: File 1 robs added\n",
      "++INFO: File 2 robs added\n",
      "++INFO: File 3 robs added\n",
      "++INFO: File 4 robs added\n",
      "++INFO: File 5 robs added\n",
      "++INFO: File 6 robs added\n",
      "++INFO: File 7 robs added\n",
      "++INFO: File 8 robs added\n",
      "++INFO: Data file created: data/cloud_data_stim_dim120_robs_sqrad_0.3_sca=6.hdf5\n",
      "CPU Time 93.17553687095642 sec\n"
     ]
    }
   ],
   "source": [
    "from utils.create_data_func import pull_data\n",
    "start = time.time()\n",
    "pull_data(robs_sq_rad=0.3, stim_dim=120, scale=6)\n",
    "end   = time.time()\n",
    "print('CPU Time', end-start, 'sec')"
   ]
  },
  {
   "cell_type": "code",
   "execution_count": 5,
   "id": "e15c5519-22c1-4a63-b459-11b3d3def05c",
   "metadata": {
    "collapsed": true,
    "jupyter": {
     "outputs_hidden": true,
     "source_hidden": true
    }
   },
   "outputs": [
    {
     "name": "stdout",
     "output_type": "stream",
     "text": [
      "++INFO: stimuli of shape (170000, 120, 120)\n",
      "++INFO: Cell type order ['X_ON', 'X_OFF', 'V1_Exc_L4', 'V1_Inh_L4', 'V1_Exc_L2/3', 'V1_Inh_L2/3']\n",
      "++INFO: 105 X_ON chosen\n",
      "++INFO: 109 X_OFF chosen\n",
      "++INFO: 607 V1_Exc_L4 chosen\n",
      "++INFO: 187 V1_Inh_L4 chosen\n",
      "++INFO: 535 V1_Exc_L2/3 chosen\n",
      "++INFO: 162 V1_Inh_L2/3 chosen\n",
      "++INFO: File 0 robs added\n",
      "++INFO: File 1 robs added\n",
      "++INFO: File 2 robs added\n",
      "++INFO: File 3 robs added\n",
      "++INFO: File 4 robs added\n",
      "++INFO: File 5 robs added\n",
      "++INFO: File 6 robs added\n",
      "++INFO: File 7 robs added\n",
      "++INFO: File 8 robs added\n",
      "++INFO: Data file created: data/cloud_data_stim_dim120_robs_sqrad_0.3_sca=9.hdf5\n",
      "CPU Time 89.61282753944397 sec\n"
     ]
    }
   ],
   "source": [
    "from utils.create_data_func import pull_data\n",
    "start = time.time()\n",
    "pull_data(robs_sq_rad=0.3, stim_dim=120, scale=9)\n",
    "end   = time.time()\n",
    "print('CPU Time', end-start, 'sec')"
   ]
  },
  {
   "cell_type": "markdown",
   "id": "73f3ac6e-a9f7-4ad6-bdf1-fdc845c045b7",
   "metadata": {},
   "source": [
    "## Look at Data File"
   ]
  },
  {
   "cell_type": "code",
   "execution_count": null,
   "id": "d43e47e4-445e-46c0-876f-9f5508c9f5e1",
   "metadata": {},
   "outputs": [],
   "source": [
    "out_file = 'data/cloud_data_stim_dim120_spike_time_sqrad_0.3_ori_0_180.hdf5'\n",
    "with h5py.File(out_file, 'r') as f:\n",
    "    stim = f['stim'][:]\n",
    "    spike_time = f['spike_time']\n",
    "    x_pos = f['x_pos'][:]\n",
    "    y_pos = f['y_pos'][:]\n",
    "    ori = f['ori'][:]\n",
    "    cell_key = [str(f['cell_key'][:][i], encoding='utf-8') for i in range(x_pos.shape[0])]\n",
    "    file_start_pos = list(f['file_start_pos'][:])"
   ]
  },
  {
   "cell_type": "code",
   "execution_count": null,
   "id": "951a4ca9-a253-4ad7-b1e3-6f6a394f5118",
   "metadata": {},
   "outputs": [],
   "source": []
  },
  {
   "cell_type": "code",
   "execution_count": null,
   "id": "30320453-565d-4aba-bafe-c6265fcd8516",
   "metadata": {},
   "outputs": [],
   "source": []
  },
  {
   "cell_type": "code",
   "execution_count": 4,
   "id": "d75182d8-d903-4c58-842a-7f752f410d3d",
   "metadata": {},
   "outputs": [],
   "source": [
    "out_file = 'data/cloud_data_stim_dim120_robs_sqrad_0.3_ori_0_180.hdf5'\n",
    "with h5py.File(out_file, 'r') as f:\n",
    "    stim = f['stim'][:]\n",
    "    robs = f['robs'][:][:,:10]\n",
    "    x_pos = f['x_pos'][:]\n",
    "    y_pos = f['y_pos'][:]\n",
    "    ori = f['ori'][:]\n",
    "    cell_key = [str(f['cell_key'][:][i], encoding='utf-8') for i in range(x_pos.shape[0])]\n",
    "    file_start_pos = list(f['file_start_pos'][:])"
   ]
  },
  {
   "cell_type": "code",
   "execution_count": 5,
   "id": "e997824b-5945-40ec-8287-6d1d25fcb8b3",
   "metadata": {},
   "outputs": [
    {
     "data": {
      "text/plain": [
       "(510000, 10)"
      ]
     },
     "execution_count": 5,
     "metadata": {},
     "output_type": "execute_result"
    }
   ],
   "source": [
    "robs.shape"
   ]
  },
  {
   "cell_type": "code",
   "execution_count": 4,
   "id": "52a56c92-9138-41d4-b291-1655ebcf9351",
   "metadata": {},
   "outputs": [
    {
     "data": {
      "text/plain": [
       "(510000, 14400)"
      ]
     },
     "execution_count": 4,
     "metadata": {},
     "output_type": "execute_result"
    }
   ],
   "source": [
    "stim.shape"
   ]
  },
  {
   "cell_type": "code",
   "execution_count": 18,
   "id": "82d59367-a03d-4f64-ab3c-c1a8ab3feecd",
   "metadata": {},
   "outputs": [
    {
     "data": {
      "text/plain": [
       "408000"
      ]
     },
     "execution_count": 18,
     "metadata": {},
     "output_type": "execute_result"
    }
   ],
   "source": [
    "NT = stim.shape[0]\n",
    "fifth = NT//5\n",
    "(fifth*4)"
   ]
  },
  {
   "cell_type": "code",
   "execution_count": 20,
   "id": "02cd2671-5d87-474c-b3ac-54b4ecda783b",
   "metadata": {},
   "outputs": [
    {
     "data": {
      "text/plain": [
       "array([     0,      1,      2, ..., 407997, 407998, 407999])"
      ]
     },
     "execution_count": 20,
     "metadata": {},
     "output_type": "execute_result"
    }
   ],
   "source": [
    "np.arange((NT//5)*4, dtype=np.int64)"
   ]
  },
  {
   "cell_type": "code",
   "execution_count": 22,
   "id": "aadd47af-8b2c-4bcc-84b2-5520b138a1e4",
   "metadata": {},
   "outputs": [
    {
     "data": {
      "text/plain": [
       "array([408000, 408001, 408002, ..., 509997, 509998, 509999])"
      ]
     },
     "execution_count": 22,
     "metadata": {},
     "output_type": "execute_result"
    }
   ],
   "source": [
    "np.arange((NT//5)*4, NT, dtype=np.int64)"
   ]
  },
  {
   "cell_type": "code",
   "execution_count": 5,
   "id": "8fca1e81-f260-4870-a389-86d38ca5c9fe",
   "metadata": {},
   "outputs": [
    {
     "data": {
      "text/plain": [
       "<matplotlib.colorbar.Colorbar at 0x7f68505c4ad0>"
      ]
     },
     "execution_count": 5,
     "metadata": {},
     "output_type": "execute_result"
    },
    {
     "data": {
      "image/png": "[encoded data removed]",
      "text/plain": [
       "<Figure size 640x480 with 2 Axes>"
      ]
     },
     "metadata": {},
     "output_type": "display_data"
    }
   ],
   "source": [
    "plt.imshow((1/255)*stim[0,:].astype(np.float32).reshape(120,120))\n",
    "plt.colorbar()"
   ]
  },
  {
   "cell_type": "code",
   "execution_count": 6,
   "id": "6f958d6b-9a54-47f8-b9f9-2dd500e5d2f8",
   "metadata": {},
   "outputs": [
    {
     "data": {
      "text/plain": [
       "(510000, 1496)"
      ]
     },
     "execution_count": 6,
     "metadata": {},
     "output_type": "execute_result"
    }
   ],
   "source": [
    "robs.shape"
   ]
  },
  {
   "cell_type": "code",
   "execution_count": 7,
   "id": "8b7fb1e7-7499-4a15-b3c9-47047f457b0a",
   "metadata": {},
   "outputs": [
    {
     "data": {
      "text/plain": [
       "[<matplotlib.lines.Line2D at 0x7f684e9307d0>]"
      ]
     },
     "execution_count": 7,
     "metadata": {},
     "output_type": "execute_result"
    },
    {
     "data": {
      "image/png": "[encoded data removed]",
      "text/plain": [
       "<Figure size 1600x250 with 1 Axes>"
      ]
     },
     "metadata": {},
     "output_type": "display_data"
    }
   ],
   "source": [
    "ss()\n",
    "plt.plot(robs[:,0])"
   ]
  },
  {
   "cell_type": "code",
   "execution_count": 8,
   "id": "2bb7a30e-dcb0-4c74-84d3-f72bef139865",
   "metadata": {},
   "outputs": [
    {
     "name": "stdout",
     "output_type": "stream",
     "text": [
      "(510000,)\n"
     ]
    },
    {
     "data": {
      "text/plain": [
       "Text(0.5, -1.777777777777784, 'avg spike count')"
      ]
     },
     "execution_count": 8,
     "metadata": {},
     "output_type": "execute_result"
    },
    {
     "data": {
      "image/png": "[encoded data removed]",
      "text/plain": [
       "<Figure size 1600x250 with 1 Axes>"
      ]
     },
     "metadata": {},
     "output_type": "display_data"
    }
   ],
   "source": [
    "avg_spike_ct = np.mean(robs[:,136:], axis=1)\n",
    "print(avg_spike_ct.shape)\n",
    "\n",
    "ss()\n",
    "plt.hist(avg_spike_ct,bins=100)\n",
    "plt.xlabel('avg spike count')"
   ]
  },
  {
   "cell_type": "code",
   "execution_count": 9,
   "id": "c4014cf7-5ed9-4a46-a94a-d2aa0069e713",
   "metadata": {},
   "outputs": [
    {
     "data": {
      "text/plain": [
       "<matplotlib.collections.PathCollection at 0x7f684967d850>"
      ]
     },
     "execution_count": 9,
     "metadata": {},
     "output_type": "execute_result"
    },
    {
     "data": {
      "image/png": "[encoded data removed]",
      "text/plain": [
       "<Figure size 640x480 with 1 Axes>"
      ]
     },
     "metadata": {},
     "output_type": "display_data"
    }
   ],
   "source": [
    "plt.scatter(x_pos,y_pos)"
   ]
  },
  {
   "cell_type": "code",
   "execution_count": 10,
   "id": "6d702823-053b-4ac7-a97c-5ca8cb470bc8",
   "metadata": {},
   "outputs": [
    {
     "data": {
      "image/png": "[encoded data removed]",
      "text/plain": [
       "<Figure size 900x500 with 1 Axes>"
      ]
     },
     "metadata": {},
     "output_type": "display_data"
    }
   ],
   "source": [
    "plt.figure(figsize=(9,5))\n",
    "plt.hist(ori[136:], bins=100)\n",
    "plt.show()"
   ]
  },
  {
   "cell_type": "code",
   "execution_count": 11,
   "id": "cfdb2809-f870-4e31-9e10-b395dd2f4fee",
   "metadata": {
    "scrolled": true
   },
   "outputs": [
    {
     "data": {
      "text/plain": [
       "['X_ON',\n",
       " 'X_ON',\n",
       " 'X_ON',\n",
       " 'X_ON',\n",
       " 'X_ON',\n",
       " 'X_ON',\n",
       " 'X_ON',\n",
       " 'X_ON',\n",
       " 'X_ON',\n",
       " 'X_ON',\n",
       " 'X_ON',\n",
       " 'X_ON',\n",
       " 'X_ON',\n",
       " 'X_ON',\n",
       " 'X_ON',\n",
       " 'X_ON',\n",
       " 'X_ON',\n",
       " 'X_ON',\n",
       " 'X_ON',\n",
       " 'X_ON',\n",
       " 'X_ON',\n",
       " 'X_ON',\n",
       " 'X_ON',\n",
       " 'X_ON',\n",
       " 'X_ON',\n",
       " 'X_ON',\n",
       " 'X_ON',\n",
       " 'X_ON',\n",
       " 'X_ON',\n",
       " 'X_ON',\n",
       " 'X_ON',\n",
       " 'X_ON',\n",
       " 'X_ON',\n",
       " 'X_ON',\n",
       " 'X_ON',\n",
       " 'X_ON',\n",
       " 'X_ON',\n",
       " 'X_ON',\n",
       " 'X_ON',\n",
       " 'X_ON',\n",
       " 'X_ON',\n",
       " 'X_ON',\n",
       " 'X_ON',\n",
       " 'X_ON',\n",
       " 'X_ON',\n",
       " 'X_ON',\n",
       " 'X_ON',\n",
       " 'X_ON',\n",
       " 'X_ON',\n",
       " 'X_ON',\n",
       " 'X_ON',\n",
       " 'X_ON',\n",
       " 'X_ON',\n",
       " 'X_ON',\n",
       " 'X_ON',\n",
       " 'X_ON',\n",
       " 'X_ON',\n",
       " 'X_ON',\n",
       " 'X_ON',\n",
       " 'X_ON',\n",
       " 'X_ON',\n",
       " 'X_ON',\n",
       " 'X_ON',\n",
       " 'X_ON',\n",
       " 'X_ON',\n",
       " 'X_ON',\n",
       " 'X_ON',\n",
       " 'X_ON',\n",
       " 'X_ON',\n",
       " 'X_OFF',\n",
       " 'X_OFF',\n",
       " 'X_OFF',\n",
       " 'X_OFF',\n",
       " 'X_OFF',\n",
       " 'X_OFF',\n",
       " 'X_OFF',\n",
       " 'X_OFF',\n",
       " 'X_OFF',\n",
       " 'X_OFF',\n",
       " 'X_OFF',\n",
       " 'X_OFF',\n",
       " 'X_OFF',\n",
       " 'X_OFF',\n",
       " 'X_OFF',\n",
       " 'X_OFF',\n",
       " 'X_OFF',\n",
       " 'X_OFF',\n",
       " 'X_OFF',\n",
       " 'X_OFF',\n",
       " 'X_OFF',\n",
       " 'X_OFF',\n",
       " 'X_OFF',\n",
       " 'X_OFF',\n",
       " 'X_OFF',\n",
       " 'X_OFF',\n",
       " 'X_OFF',\n",
       " 'X_OFF',\n",
       " 'X_OFF',\n",
       " 'X_OFF',\n",
       " 'X_OFF',\n",
       " 'X_OFF',\n",
       " 'X_OFF',\n",
       " 'X_OFF',\n",
       " 'X_OFF',\n",
       " 'X_OFF',\n",
       " 'X_OFF',\n",
       " 'X_OFF',\n",
       " 'X_OFF',\n",
       " 'X_OFF',\n",
       " 'X_OFF',\n",
       " 'X_OFF',\n",
       " 'X_OFF',\n",
       " 'X_OFF',\n",
       " 'X_OFF',\n",
       " 'X_OFF',\n",
       " 'X_OFF',\n",
       " 'X_OFF',\n",
       " 'X_OFF',\n",
       " 'X_OFF',\n",
       " 'X_OFF',\n",
       " 'X_OFF',\n",
       " 'X_OFF',\n",
       " 'X_OFF',\n",
       " 'X_OFF',\n",
       " 'X_OFF',\n",
       " 'X_OFF',\n",
       " 'X_OFF',\n",
       " 'X_OFF',\n",
       " 'X_OFF',\n",
       " 'X_OFF',\n",
       " 'X_OFF',\n",
       " 'X_OFF',\n",
       " 'X_OFF',\n",
       " 'X_OFF',\n",
       " 'X_OFF',\n",
       " 'X_OFF',\n",
       " 'V1_Exc_L4',\n",
       " 'V1_Exc_L4',\n",
       " 'V1_Exc_L4',\n",
       " 'V1_Exc_L4',\n",
       " 'V1_Exc_L4',\n",
       " 'V1_Exc_L4',\n",
       " 'V1_Exc_L4',\n",
       " 'V1_Exc_L4',\n",
       " 'V1_Exc_L4',\n",
       " 'V1_Exc_L4',\n",
       " 'V1_Exc_L4',\n",
       " 'V1_Exc_L4',\n",
       " 'V1_Exc_L4',\n",
       " 'V1_Exc_L4',\n",
       " 'V1_Exc_L4',\n",
       " 'V1_Exc_L4',\n",
       " 'V1_Exc_L4',\n",
       " 'V1_Exc_L4',\n",
       " 'V1_Exc_L4',\n",
       " 'V1_Exc_L4',\n",
       " 'V1_Exc_L4',\n",
       " 'V1_Exc_L4',\n",
       " 'V1_Exc_L4',\n",
       " 'V1_Exc_L4',\n",
       " 'V1_Exc_L4',\n",
       " 'V1_Exc_L4',\n",
       " 'V1_Exc_L4',\n",
       " 'V1_Exc_L4',\n",
       " 'V1_Exc_L4',\n",
       " 'V1_Exc_L4',\n",
       " 'V1_Exc_L4',\n",
       " 'V1_Exc_L4',\n",
       " 'V1_Exc_L4',\n",
       " 'V1_Exc_L4',\n",
       " 'V1_Exc_L4',\n",
       " 'V1_Exc_L4',\n",
       " 'V1_Exc_L4',\n",
       " 'V1_Exc_L4',\n",
       " 'V1_Exc_L4',\n",
       " 'V1_Exc_L4',\n",
       " 'V1_Exc_L4',\n",
       " 'V1_Exc_L4',\n",
       " 'V1_Exc_L4',\n",
       " 'V1_Exc_L4',\n",
       " 'V1_Exc_L4',\n",
       " 'V1_Exc_L4',\n",
       " 'V1_Exc_L4',\n",
       " 'V1_Exc_L4',\n",
       " 'V1_Exc_L4',\n",
       " 'V1_Exc_L4',\n",
       " 'V1_Exc_L4',\n",
       " 'V1_Exc_L4',\n",
       " 'V1_Exc_L4',\n",
       " 'V1_Exc_L4',\n",
       " 'V1_Exc_L4',\n",
       " 'V1_Exc_L4',\n",
       " 'V1_Exc_L4',\n",
       " 'V1_Exc_L4',\n",
       " 'V1_Exc_L4',\n",
       " 'V1_Exc_L4',\n",
       " 'V1_Exc_L4',\n",
       " 'V1_Exc_L4',\n",
       " 'V1_Exc_L4',\n",
       " 'V1_Exc_L4',\n",
       " 'V1_Exc_L4',\n",
       " 'V1_Exc_L4',\n",
       " 'V1_Exc_L4',\n",
       " 'V1_Exc_L4',\n",
       " 'V1_Exc_L4',\n",
       " 'V1_Exc_L4',\n",
       " 'V1_Exc_L4',\n",
       " 'V1_Exc_L4',\n",
       " 'V1_Exc_L4',\n",
       " 'V1_Exc_L4',\n",
       " 'V1_Exc_L4',\n",
       " 'V1_Exc_L4',\n",
       " 'V1_Exc_L4',\n",
       " 'V1_Exc_L4',\n",
       " 'V1_Exc_L4',\n",
       " 'V1_Exc_L4',\n",
       " 'V1_Exc_L4',\n",
       " 'V1_Exc_L4',\n",
       " 'V1_Exc_L4',\n",
       " 'V1_Exc_L4',\n",
       " 'V1_Exc_L4',\n",
       " 'V1_Exc_L4',\n",
       " 'V1_Exc_L4',\n",
       " 'V1_Exc_L4',\n",
       " 'V1_Exc_L4',\n",
       " 'V1_Exc_L4',\n",
       " 'V1_Exc_L4',\n",
       " 'V1_Exc_L4',\n",
       " 'V1_Exc_L4',\n",
       " 'V1_Exc_L4',\n",
       " 'V1_Exc_L4',\n",
       " 'V1_Exc_L4',\n",
       " 'V1_Exc_L4',\n",
       " 'V1_Exc_L4',\n",
       " 'V1_Exc_L4',\n",
       " 'V1_Exc_L4',\n",
       " 'V1_Exc_L4',\n",
       " 'V1_Exc_L4',\n",
       " 'V1_Exc_L4',\n",
       " 'V1_Exc_L4',\n",
       " 'V1_Exc_L4',\n",
       " 'V1_Exc_L4',\n",
       " 'V1_Exc_L4',\n",
       " 'V1_Exc_L4',\n",
       " 'V1_Exc_L4',\n",
       " 'V1_Exc_L4',\n",
       " 'V1_Exc_L4',\n",
       " 'V1_Exc_L4',\n",
       " 'V1_Exc_L4',\n",
       " 'V1_Exc_L4',\n",
       " 'V1_Exc_L4',\n",
       " 'V1_Exc_L4',\n",
       " 'V1_Exc_L4',\n",
       " 'V1_Exc_L4',\n",
       " 'V1_Exc_L4',\n",
       " 'V1_Exc_L4',\n",
       " 'V1_Exc_L4',\n",
       " 'V1_Exc_L4',\n",
       " 'V1_Exc_L4',\n",
       " 'V1_Exc_L4',\n",
       " 'V1_Exc_L4',\n",
       " 'V1_Exc_L4',\n",
       " 'V1_Exc_L4',\n",
       " 'V1_Exc_L4',\n",
       " 'V1_Exc_L4',\n",
       " 'V1_Exc_L4',\n",
       " 'V1_Exc_L4',\n",
       " 'V1_Exc_L4',\n",
       " 'V1_Exc_L4',\n",
       " 'V1_Exc_L4',\n",
       " 'V1_Exc_L4',\n",
       " 'V1_Exc_L4',\n",
       " 'V1_Exc_L4',\n",
       " 'V1_Exc_L4',\n",
       " 'V1_Exc_L4',\n",
       " 'V1_Exc_L4',\n",
       " 'V1_Exc_L4',\n",
       " 'V1_Exc_L4',\n",
       " 'V1_Exc_L4',\n",
       " 'V1_Exc_L4',\n",
       " 'V1_Exc_L4',\n",
       " 'V1_Exc_L4',\n",
       " 'V1_Exc_L4',\n",
       " 'V1_Exc_L4',\n",
       " 'V1_Exc_L4',\n",
       " 'V1_Exc_L4',\n",
       " 'V1_Exc_L4',\n",
       " 'V1_Exc_L4',\n",
       " 'V1_Exc_L4',\n",
       " 'V1_Exc_L4',\n",
       " 'V1_Exc_L4',\n",
       " 'V1_Exc_L4',\n",
       " 'V1_Exc_L4',\n",
       " 'V1_Exc_L4',\n",
       " 'V1_Exc_L4',\n",
       " 'V1_Exc_L4',\n",
       " 'V1_Exc_L4',\n",
       " 'V1_Exc_L4',\n",
       " 'V1_Exc_L4',\n",
       " 'V1_Exc_L4',\n",
       " 'V1_Exc_L4',\n",
       " 'V1_Exc_L4',\n",
       " 'V1_Exc_L4',\n",
       " 'V1_Exc_L4',\n",
       " 'V1_Exc_L4',\n",
       " 'V1_Exc_L4',\n",
       " 'V1_Exc_L4',\n",
       " 'V1_Exc_L4',\n",
       " 'V1_Exc_L4',\n",
       " 'V1_Exc_L4',\n",
       " 'V1_Exc_L4',\n",
       " 'V1_Exc_L4',\n",
       " 'V1_Exc_L4',\n",
       " 'V1_Exc_L4',\n",
       " 'V1_Exc_L4',\n",
       " 'V1_Exc_L4',\n",
       " 'V1_Exc_L4',\n",
       " 'V1_Exc_L4',\n",
       " 'V1_Exc_L4',\n",
       " 'V1_Exc_L4',\n",
       " 'V1_Exc_L4',\n",
       " 'V1_Exc_L4',\n",
       " 'V1_Exc_L4',\n",
       " 'V1_Exc_L4',\n",
       " 'V1_Exc_L4',\n",
       " 'V1_Exc_L4',\n",
       " 'V1_Exc_L4',\n",
       " 'V1_Exc_L4',\n",
       " 'V1_Exc_L4',\n",
       " 'V1_Exc_L4',\n",
       " 'V1_Exc_L4',\n",
       " 'V1_Exc_L4',\n",
       " 'V1_Exc_L4',\n",
       " 'V1_Exc_L4',\n",
       " 'V1_Exc_L4',\n",
       " 'V1_Exc_L4',\n",
       " 'V1_Exc_L4',\n",
       " 'V1_Exc_L4',\n",
       " 'V1_Exc_L4',\n",
       " 'V1_Exc_L4',\n",
       " 'V1_Exc_L4',\n",
       " 'V1_Exc_L4',\n",
       " 'V1_Exc_L4',\n",
       " 'V1_Exc_L4',\n",
       " 'V1_Exc_L4',\n",
       " 'V1_Exc_L4',\n",
       " 'V1_Exc_L4',\n",
       " 'V1_Exc_L4',\n",
       " 'V1_Exc_L4',\n",
       " 'V1_Exc_L4',\n",
       " 'V1_Exc_L4',\n",
       " 'V1_Exc_L4',\n",
       " 'V1_Exc_L4',\n",
       " 'V1_Exc_L4',\n",
       " 'V1_Exc_L4',\n",
       " 'V1_Exc_L4',\n",
       " 'V1_Exc_L4',\n",
       " 'V1_Exc_L4',\n",
       " 'V1_Exc_L4',\n",
       " 'V1_Exc_L4',\n",
       " 'V1_Exc_L4',\n",
       " 'V1_Exc_L4',\n",
       " 'V1_Exc_L4',\n",
       " 'V1_Exc_L4',\n",
       " 'V1_Exc_L4',\n",
       " 'V1_Exc_L4',\n",
       " 'V1_Exc_L4',\n",
       " 'V1_Exc_L4',\n",
       " 'V1_Exc_L4',\n",
       " 'V1_Exc_L4',\n",
       " 'V1_Exc_L4',\n",
       " 'V1_Exc_L4',\n",
       " 'V1_Exc_L4',\n",
       " 'V1_Exc_L4',\n",
       " 'V1_Exc_L4',\n",
       " 'V1_Exc_L4',\n",
       " 'V1_Exc_L4',\n",
       " 'V1_Exc_L4',\n",
       " 'V1_Exc_L4',\n",
       " 'V1_Exc_L4',\n",
       " 'V1_Exc_L4',\n",
       " 'V1_Exc_L4',\n",
       " 'V1_Exc_L4',\n",
       " 'V1_Exc_L4',\n",
       " 'V1_Exc_L4',\n",
       " 'V1_Exc_L4',\n",
       " 'V1_Exc_L4',\n",
       " 'V1_Exc_L4',\n",
       " 'V1_Exc_L4',\n",
       " 'V1_Exc_L4',\n",
       " 'V1_Exc_L4',\n",
       " 'V1_Exc_L4',\n",
       " 'V1_Exc_L4',\n",
       " 'V1_Exc_L4',\n",
       " 'V1_Exc_L4',\n",
       " 'V1_Exc_L4',\n",
       " 'V1_Exc_L4',\n",
       " 'V1_Exc_L4',\n",
       " 'V1_Exc_L4',\n",
       " 'V1_Exc_L4',\n",
       " 'V1_Exc_L4',\n",
       " 'V1_Exc_L4',\n",
       " 'V1_Exc_L4',\n",
       " 'V1_Exc_L4',\n",
       " 'V1_Exc_L4',\n",
       " 'V1_Exc_L4',\n",
       " 'V1_Exc_L4',\n",
       " 'V1_Exc_L4',\n",
       " 'V1_Exc_L4',\n",
       " 'V1_Exc_L4',\n",
       " 'V1_Exc_L4',\n",
       " 'V1_Exc_L4',\n",
       " 'V1_Exc_L4',\n",
       " 'V1_Exc_L4',\n",
       " 'V1_Exc_L4',\n",
       " 'V1_Exc_L4',\n",
       " 'V1_Exc_L4',\n",
       " 'V1_Exc_L4',\n",
       " 'V1_Exc_L4',\n",
       " 'V1_Exc_L4',\n",
       " 'V1_Exc_L4',\n",
       " 'V1_Exc_L4',\n",
       " 'V1_Exc_L4',\n",
       " 'V1_Exc_L4',\n",
       " 'V1_Exc_L4',\n",
       " 'V1_Exc_L4',\n",
       " 'V1_Exc_L4',\n",
       " 'V1_Exc_L4',\n",
       " 'V1_Exc_L4',\n",
       " 'V1_Exc_L4',\n",
       " 'V1_Exc_L4',\n",
       " 'V1_Exc_L4',\n",
       " 'V1_Exc_L4',\n",
       " 'V1_Exc_L4',\n",
       " 'V1_Exc_L4',\n",
       " 'V1_Exc_L4',\n",
       " 'V1_Exc_L4',\n",
       " 'V1_Exc_L4',\n",
       " 'V1_Exc_L4',\n",
       " 'V1_Exc_L4',\n",
       " 'V1_Exc_L4',\n",
       " 'V1_Exc_L4',\n",
       " 'V1_Exc_L4',\n",
       " 'V1_Exc_L4',\n",
       " 'V1_Exc_L4',\n",
       " 'V1_Exc_L4',\n",
       " 'V1_Exc_L4',\n",
       " 'V1_Exc_L4',\n",
       " 'V1_Exc_L4',\n",
       " 'V1_Exc_L4',\n",
       " 'V1_Exc_L4',\n",
       " 'V1_Exc_L4',\n",
       " 'V1_Exc_L4',\n",
       " 'V1_Exc_L4',\n",
       " 'V1_Exc_L4',\n",
       " 'V1_Exc_L4',\n",
       " 'V1_Exc_L4',\n",
       " 'V1_Exc_L4',\n",
       " 'V1_Exc_L4',\n",
       " 'V1_Exc_L4',\n",
       " 'V1_Exc_L4',\n",
       " 'V1_Exc_L4',\n",
       " 'V1_Exc_L4',\n",
       " 'V1_Exc_L4',\n",
       " 'V1_Exc_L4',\n",
       " 'V1_Exc_L4',\n",
       " 'V1_Exc_L4',\n",
       " 'V1_Exc_L4',\n",
       " 'V1_Exc_L4',\n",
       " 'V1_Exc_L4',\n",
       " 'V1_Exc_L4',\n",
       " 'V1_Exc_L4',\n",
       " 'V1_Exc_L4',\n",
       " 'V1_Exc_L4',\n",
       " 'V1_Exc_L4',\n",
       " 'V1_Exc_L4',\n",
       " 'V1_Exc_L4',\n",
       " 'V1_Exc_L4',\n",
       " 'V1_Exc_L4',\n",
       " 'V1_Exc_L4',\n",
       " 'V1_Exc_L4',\n",
       " 'V1_Exc_L4',\n",
       " 'V1_Exc_L4',\n",
       " 'V1_Exc_L4',\n",
       " 'V1_Exc_L4',\n",
       " 'V1_Exc_L4',\n",
       " 'V1_Exc_L4',\n",
       " 'V1_Exc_L4',\n",
       " 'V1_Exc_L4',\n",
       " 'V1_Exc_L4',\n",
       " 'V1_Exc_L4',\n",
       " 'V1_Exc_L4',\n",
       " 'V1_Exc_L4',\n",
       " 'V1_Exc_L4',\n",
       " 'V1_Exc_L4',\n",
       " 'V1_Exc_L4',\n",
       " 'V1_Exc_L4',\n",
       " 'V1_Exc_L4',\n",
       " 'V1_Exc_L4',\n",
       " 'V1_Exc_L4',\n",
       " 'V1_Exc_L4',\n",
       " 'V1_Exc_L4',\n",
       " 'V1_Exc_L4',\n",
       " 'V1_Exc_L4',\n",
       " 'V1_Exc_L4',\n",
       " 'V1_Exc_L4',\n",
       " 'V1_Exc_L4',\n",
       " 'V1_Exc_L4',\n",
       " 'V1_Exc_L4',\n",
       " 'V1_Exc_L4',\n",
       " 'V1_Exc_L4',\n",
       " 'V1_Exc_L4',\n",
       " 'V1_Exc_L4',\n",
       " 'V1_Exc_L4',\n",
       " 'V1_Exc_L4',\n",
       " 'V1_Exc_L4',\n",
       " 'V1_Exc_L4',\n",
       " 'V1_Exc_L4',\n",
       " 'V1_Exc_L4',\n",
       " 'V1_Exc_L4',\n",
       " 'V1_Exc_L4',\n",
       " 'V1_Exc_L4',\n",
       " 'V1_Exc_L4',\n",
       " 'V1_Exc_L4',\n",
       " 'V1_Exc_L4',\n",
       " 'V1_Exc_L4',\n",
       " 'V1_Exc_L4',\n",
       " 'V1_Exc_L4',\n",
       " 'V1_Exc_L4',\n",
       " 'V1_Exc_L4',\n",
       " 'V1_Exc_L4',\n",
       " 'V1_Exc_L4',\n",
       " 'V1_Exc_L4',\n",
       " 'V1_Exc_L4',\n",
       " 'V1_Exc_L4',\n",
       " 'V1_Exc_L4',\n",
       " 'V1_Exc_L4',\n",
       " 'V1_Exc_L4',\n",
       " 'V1_Exc_L4',\n",
       " 'V1_Exc_L4',\n",
       " 'V1_Exc_L4',\n",
       " 'V1_Exc_L4',\n",
       " 'V1_Exc_L4',\n",
       " 'V1_Exc_L4',\n",
       " 'V1_Exc_L4',\n",
       " 'V1_Exc_L4',\n",
       " 'V1_Exc_L4',\n",
       " 'V1_Exc_L4',\n",
       " 'V1_Exc_L4',\n",
       " 'V1_Exc_L4',\n",
       " 'V1_Exc_L4',\n",
       " 'V1_Exc_L4',\n",
       " 'V1_Exc_L4',\n",
       " 'V1_Exc_L4',\n",
       " 'V1_Exc_L4',\n",
       " 'V1_Exc_L4',\n",
       " 'V1_Exc_L4',\n",
       " 'V1_Exc_L4',\n",
       " 'V1_Exc_L4',\n",
       " 'V1_Exc_L4',\n",
       " 'V1_Exc_L4',\n",
       " 'V1_Exc_L4',\n",
       " 'V1_Exc_L4',\n",
       " 'V1_Exc_L4',\n",
       " 'V1_Exc_L4',\n",
       " 'V1_Exc_L4',\n",
       " 'V1_Exc_L4',\n",
       " 'V1_Exc_L4',\n",
       " 'V1_Exc_L4',\n",
       " 'V1_Exc_L4',\n",
       " 'V1_Exc_L4',\n",
       " 'V1_Exc_L4',\n",
       " 'V1_Exc_L4',\n",
       " 'V1_Exc_L4',\n",
       " 'V1_Exc_L4',\n",
       " 'V1_Exc_L4',\n",
       " 'V1_Exc_L4',\n",
       " 'V1_Exc_L4',\n",
       " 'V1_Exc_L4',\n",
       " 'V1_Exc_L4',\n",
       " 'V1_Exc_L4',\n",
       " 'V1_Exc_L4',\n",
       " 'V1_Exc_L4',\n",
       " 'V1_Exc_L4',\n",
       " 'V1_Exc_L4',\n",
       " 'V1_Exc_L4',\n",
       " 'V1_Exc_L4',\n",
       " 'V1_Exc_L4',\n",
       " 'V1_Exc_L4',\n",
       " 'V1_Exc_L4',\n",
       " 'V1_Exc_L4',\n",
       " 'V1_Exc_L4',\n",
       " 'V1_Exc_L4',\n",
       " 'V1_Exc_L4',\n",
       " 'V1_Exc_L4',\n",
       " 'V1_Exc_L4',\n",
       " 'V1_Exc_L4',\n",
       " 'V1_Exc_L4',\n",
       " 'V1_Exc_L4',\n",
       " 'V1_Exc_L4',\n",
       " 'V1_Exc_L4',\n",
       " 'V1_Exc_L4',\n",
       " 'V1_Exc_L4',\n",
       " 'V1_Exc_L4',\n",
       " 'V1_Exc_L4',\n",
       " 'V1_Exc_L4',\n",
       " 'V1_Exc_L4',\n",
       " 'V1_Exc_L4',\n",
       " 'V1_Exc_L4',\n",
       " 'V1_Exc_L4',\n",
       " 'V1_Exc_L4',\n",
       " 'V1_Exc_L4',\n",
       " 'V1_Exc_L4',\n",
       " 'V1_Exc_L4',\n",
       " 'V1_Exc_L4',\n",
       " 'V1_Exc_L4',\n",
       " 'V1_Exc_L4',\n",
       " 'V1_Exc_L4',\n",
       " 'V1_Exc_L4',\n",
       " 'V1_Exc_L4',\n",
       " 'V1_Exc_L4',\n",
       " 'V1_Exc_L4',\n",
       " 'V1_Exc_L4',\n",
       " 'V1_Exc_L4',\n",
       " 'V1_Exc_L4',\n",
       " 'V1_Exc_L4',\n",
       " 'V1_Exc_L4',\n",
       " 'V1_Exc_L4',\n",
       " 'V1_Exc_L4',\n",
       " 'V1_Exc_L4',\n",
       " 'V1_Exc_L4',\n",
       " 'V1_Exc_L4',\n",
       " 'V1_Exc_L4',\n",
       " 'V1_Exc_L4',\n",
       " 'V1_Exc_L4',\n",
       " 'V1_Exc_L4',\n",
       " 'V1_Exc_L4',\n",
       " 'V1_Exc_L4',\n",
       " 'V1_Exc_L4',\n",
       " 'V1_Exc_L4',\n",
       " 'V1_Exc_L4',\n",
       " 'V1_Exc_L4',\n",
       " 'V1_Exc_L4',\n",
       " 'V1_Exc_L4',\n",
       " 'V1_Exc_L4',\n",
       " 'V1_Exc_L4',\n",
       " 'V1_Exc_L4',\n",
       " 'V1_Exc_L4',\n",
       " 'V1_Exc_L4',\n",
       " 'V1_Exc_L4',\n",
       " 'V1_Exc_L4',\n",
       " 'V1_Exc_L4',\n",
       " 'V1_Exc_L4',\n",
       " 'V1_Exc_L4',\n",
       " 'V1_Exc_L4',\n",
       " 'V1_Exc_L4',\n",
       " 'V1_Exc_L4',\n",
       " 'V1_Exc_L4',\n",
       " 'V1_Exc_L4',\n",
       " 'V1_Exc_L4',\n",
       " 'V1_Exc_L4',\n",
       " 'V1_Exc_L4',\n",
       " 'V1_Exc_L4',\n",
       " 'V1_Exc_L4',\n",
       " 'V1_Exc_L4',\n",
       " 'V1_Exc_L4',\n",
       " 'V1_Exc_L4',\n",
       " 'V1_Exc_L4',\n",
       " 'V1_Exc_L4',\n",
       " 'V1_Exc_L4',\n",
       " 'V1_Exc_L4',\n",
       " 'V1_Exc_L4',\n",
       " 'V1_Exc_L4',\n",
       " 'V1_Exc_L4',\n",
       " 'V1_Exc_L4',\n",
       " 'V1_Exc_L4',\n",
       " 'V1_Exc_L4',\n",
       " 'V1_Exc_L4',\n",
       " 'V1_Exc_L4',\n",
       " 'V1_Exc_L4',\n",
       " 'V1_Exc_L4',\n",
       " 'V1_Exc_L4',\n",
       " 'V1_Exc_L4',\n",
       " 'V1_Inh_L4',\n",
       " 'V1_Inh_L4',\n",
       " 'V1_Inh_L4',\n",
       " 'V1_Inh_L4',\n",
       " 'V1_Inh_L4',\n",
       " 'V1_Inh_L4',\n",
       " 'V1_Inh_L4',\n",
       " 'V1_Inh_L4',\n",
       " 'V1_Inh_L4',\n",
       " 'V1_Inh_L4',\n",
       " 'V1_Inh_L4',\n",
       " 'V1_Inh_L4',\n",
       " 'V1_Inh_L4',\n",
       " 'V1_Inh_L4',\n",
       " 'V1_Inh_L4',\n",
       " 'V1_Inh_L4',\n",
       " 'V1_Inh_L4',\n",
       " 'V1_Inh_L4',\n",
       " 'V1_Inh_L4',\n",
       " 'V1_Inh_L4',\n",
       " 'V1_Inh_L4',\n",
       " 'V1_Inh_L4',\n",
       " 'V1_Inh_L4',\n",
       " 'V1_Inh_L4',\n",
       " 'V1_Inh_L4',\n",
       " 'V1_Inh_L4',\n",
       " 'V1_Inh_L4',\n",
       " 'V1_Inh_L4',\n",
       " 'V1_Inh_L4',\n",
       " 'V1_Inh_L4',\n",
       " 'V1_Inh_L4',\n",
       " 'V1_Inh_L4',\n",
       " 'V1_Inh_L4',\n",
       " 'V1_Inh_L4',\n",
       " 'V1_Inh_L4',\n",
       " 'V1_Inh_L4',\n",
       " 'V1_Inh_L4',\n",
       " 'V1_Inh_L4',\n",
       " 'V1_Inh_L4',\n",
       " 'V1_Inh_L4',\n",
       " 'V1_Inh_L4',\n",
       " 'V1_Inh_L4',\n",
       " 'V1_Inh_L4',\n",
       " 'V1_Inh_L4',\n",
       " 'V1_Inh_L4',\n",
       " 'V1_Inh_L4',\n",
       " 'V1_Inh_L4',\n",
       " 'V1_Inh_L4',\n",
       " 'V1_Inh_L4',\n",
       " 'V1_Inh_L4',\n",
       " 'V1_Inh_L4',\n",
       " 'V1_Inh_L4',\n",
       " 'V1_Inh_L4',\n",
       " 'V1_Inh_L4',\n",
       " 'V1_Inh_L4',\n",
       " 'V1_Inh_L4',\n",
       " 'V1_Inh_L4',\n",
       " 'V1_Inh_L4',\n",
       " 'V1_Inh_L4',\n",
       " 'V1_Inh_L4',\n",
       " 'V1_Inh_L4',\n",
       " 'V1_Inh_L4',\n",
       " 'V1_Inh_L4',\n",
       " 'V1_Inh_L4',\n",
       " 'V1_Inh_L4',\n",
       " 'V1_Inh_L4',\n",
       " 'V1_Inh_L4',\n",
       " 'V1_Inh_L4',\n",
       " 'V1_Inh_L4',\n",
       " 'V1_Inh_L4',\n",
       " 'V1_Inh_L4',\n",
       " 'V1_Inh_L4',\n",
       " 'V1_Inh_L4',\n",
       " 'V1_Inh_L4',\n",
       " 'V1_Inh_L4',\n",
       " 'V1_Inh_L4',\n",
       " 'V1_Inh_L4',\n",
       " 'V1_Inh_L4',\n",
       " 'V1_Inh_L4',\n",
       " 'V1_Inh_L4',\n",
       " 'V1_Inh_L4',\n",
       " 'V1_Inh_L4',\n",
       " 'V1_Inh_L4',\n",
       " 'V1_Inh_L4',\n",
       " 'V1_Inh_L4',\n",
       " 'V1_Inh_L4',\n",
       " 'V1_Inh_L4',\n",
       " 'V1_Inh_L4',\n",
       " 'V1_Inh_L4',\n",
       " 'V1_Inh_L4',\n",
       " 'V1_Inh_L4',\n",
       " 'V1_Inh_L4',\n",
       " 'V1_Inh_L4',\n",
       " 'V1_Inh_L4',\n",
       " 'V1_Inh_L4',\n",
       " 'V1_Inh_L4',\n",
       " 'V1_Inh_L4',\n",
       " 'V1_Inh_L4',\n",
       " 'V1_Inh_L4',\n",
       " 'V1_Inh_L4',\n",
       " 'V1_Inh_L4',\n",
       " 'V1_Inh_L4',\n",
       " 'V1_Inh_L4',\n",
       " 'V1_Inh_L4',\n",
       " 'V1_Inh_L4',\n",
       " 'V1_Inh_L4',\n",
       " 'V1_Inh_L4',\n",
       " 'V1_Inh_L4',\n",
       " 'V1_Inh_L4',\n",
       " 'V1_Inh_L4',\n",
       " 'V1_Inh_L4',\n",
       " 'V1_Inh_L4',\n",
       " 'V1_Inh_L4',\n",
       " 'V1_Inh_L4',\n",
       " 'V1_Inh_L4',\n",
       " 'V1_Inh_L4',\n",
       " 'V1_Inh_L4',\n",
       " 'V1_Inh_L4',\n",
       " 'V1_Inh_L4',\n",
       " 'V1_Inh_L4',\n",
       " 'V1_Inh_L4',\n",
       " 'V1_Inh_L4',\n",
       " 'V1_Inh_L4',\n",
       " 'V1_Inh_L4',\n",
       " 'V1_Inh_L4',\n",
       " 'V1_Inh_L4',\n",
       " 'V1_Inh_L4',\n",
       " 'V1_Inh_L4',\n",
       " 'V1_Inh_L4',\n",
       " 'V1_Inh_L4',\n",
       " 'V1_Inh_L4',\n",
       " 'V1_Inh_L4',\n",
       " 'V1_Inh_L4',\n",
       " 'V1_Inh_L4',\n",
       " 'V1_Inh_L4',\n",
       " 'V1_Inh_L4',\n",
       " 'V1_Inh_L4',\n",
       " 'V1_Inh_L4',\n",
       " 'V1_Inh_L4',\n",
       " 'V1_Inh_L4',\n",
       " 'V1_Inh_L4',\n",
       " 'V1_Inh_L4',\n",
       " 'V1_Inh_L4',\n",
       " 'V1_Inh_L4',\n",
       " 'V1_Inh_L4',\n",
       " 'V1_Inh_L4',\n",
       " 'V1_Inh_L4',\n",
       " 'V1_Exc_L2/3',\n",
       " 'V1_Exc_L2/3',\n",
       " 'V1_Exc_L2/3',\n",
       " 'V1_Exc_L2/3',\n",
       " 'V1_Exc_L2/3',\n",
       " 'V1_Exc_L2/3',\n",
       " 'V1_Exc_L2/3',\n",
       " 'V1_Exc_L2/3',\n",
       " 'V1_Exc_L2/3',\n",
       " 'V1_Exc_L2/3',\n",
       " 'V1_Exc_L2/3',\n",
       " 'V1_Exc_L2/3',\n",
       " 'V1_Exc_L2/3',\n",
       " 'V1_Exc_L2/3',\n",
       " 'V1_Exc_L2/3',\n",
       " 'V1_Exc_L2/3',\n",
       " 'V1_Exc_L2/3',\n",
       " 'V1_Exc_L2/3',\n",
       " 'V1_Exc_L2/3',\n",
       " 'V1_Exc_L2/3',\n",
       " 'V1_Exc_L2/3',\n",
       " 'V1_Exc_L2/3',\n",
       " 'V1_Exc_L2/3',\n",
       " 'V1_Exc_L2/3',\n",
       " 'V1_Exc_L2/3',\n",
       " 'V1_Exc_L2/3',\n",
       " 'V1_Exc_L2/3',\n",
       " 'V1_Exc_L2/3',\n",
       " 'V1_Exc_L2/3',\n",
       " 'V1_Exc_L2/3',\n",
       " 'V1_Exc_L2/3',\n",
       " 'V1_Exc_L2/3',\n",
       " 'V1_Exc_L2/3',\n",
       " 'V1_Exc_L2/3',\n",
       " 'V1_Exc_L2/3',\n",
       " 'V1_Exc_L2/3',\n",
       " 'V1_Exc_L2/3',\n",
       " 'V1_Exc_L2/3',\n",
       " 'V1_Exc_L2/3',\n",
       " 'V1_Exc_L2/3',\n",
       " 'V1_Exc_L2/3',\n",
       " 'V1_Exc_L2/3',\n",
       " 'V1_Exc_L2/3',\n",
       " 'V1_Exc_L2/3',\n",
       " 'V1_Exc_L2/3',\n",
       " 'V1_Exc_L2/3',\n",
       " 'V1_Exc_L2/3',\n",
       " 'V1_Exc_L2/3',\n",
       " 'V1_Exc_L2/3',\n",
       " 'V1_Exc_L2/3',\n",
       " 'V1_Exc_L2/3',\n",
       " 'V1_Exc_L2/3',\n",
       " 'V1_Exc_L2/3',\n",
       " 'V1_Exc_L2/3',\n",
       " 'V1_Exc_L2/3',\n",
       " 'V1_Exc_L2/3',\n",
       " 'V1_Exc_L2/3',\n",
       " 'V1_Exc_L2/3',\n",
       " 'V1_Exc_L2/3',\n",
       " 'V1_Exc_L2/3',\n",
       " 'V1_Exc_L2/3',\n",
       " 'V1_Exc_L2/3',\n",
       " 'V1_Exc_L2/3',\n",
       " 'V1_Exc_L2/3',\n",
       " 'V1_Exc_L2/3',\n",
       " 'V1_Exc_L2/3',\n",
       " 'V1_Exc_L2/3',\n",
       " 'V1_Exc_L2/3',\n",
       " 'V1_Exc_L2/3',\n",
       " 'V1_Exc_L2/3',\n",
       " 'V1_Exc_L2/3',\n",
       " 'V1_Exc_L2/3',\n",
       " 'V1_Exc_L2/3',\n",
       " 'V1_Exc_L2/3',\n",
       " 'V1_Exc_L2/3',\n",
       " 'V1_Exc_L2/3',\n",
       " 'V1_Exc_L2/3',\n",
       " 'V1_Exc_L2/3',\n",
       " 'V1_Exc_L2/3',\n",
       " 'V1_Exc_L2/3',\n",
       " 'V1_Exc_L2/3',\n",
       " 'V1_Exc_L2/3',\n",
       " 'V1_Exc_L2/3',\n",
       " 'V1_Exc_L2/3',\n",
       " 'V1_Exc_L2/3',\n",
       " 'V1_Exc_L2/3',\n",
       " 'V1_Exc_L2/3',\n",
       " 'V1_Exc_L2/3',\n",
       " 'V1_Exc_L2/3',\n",
       " 'V1_Exc_L2/3',\n",
       " 'V1_Exc_L2/3',\n",
       " 'V1_Exc_L2/3',\n",
       " 'V1_Exc_L2/3',\n",
       " 'V1_Exc_L2/3',\n",
       " 'V1_Exc_L2/3',\n",
       " 'V1_Exc_L2/3',\n",
       " 'V1_Exc_L2/3',\n",
       " 'V1_Exc_L2/3',\n",
       " 'V1_Exc_L2/3',\n",
       " 'V1_Exc_L2/3',\n",
       " 'V1_Exc_L2/3',\n",
       " 'V1_Exc_L2/3',\n",
       " 'V1_Exc_L2/3',\n",
       " 'V1_Exc_L2/3',\n",
       " 'V1_Exc_L2/3',\n",
       " 'V1_Exc_L2/3',\n",
       " 'V1_Exc_L2/3',\n",
       " 'V1_Exc_L2/3',\n",
       " 'V1_Exc_L2/3',\n",
       " 'V1_Exc_L2/3',\n",
       " 'V1_Exc_L2/3',\n",
       " 'V1_Exc_L2/3',\n",
       " 'V1_Exc_L2/3',\n",
       " 'V1_Exc_L2/3',\n",
       " 'V1_Exc_L2/3',\n",
       " 'V1_Exc_L2/3',\n",
       " 'V1_Exc_L2/3',\n",
       " 'V1_Exc_L2/3',\n",
       " 'V1_Exc_L2/3',\n",
       " 'V1_Exc_L2/3',\n",
       " 'V1_Exc_L2/3',\n",
       " 'V1_Exc_L2/3',\n",
       " 'V1_Exc_L2/3',\n",
       " 'V1_Exc_L2/3',\n",
       " 'V1_Exc_L2/3',\n",
       " 'V1_Exc_L2/3',\n",
       " 'V1_Exc_L2/3',\n",
       " 'V1_Exc_L2/3',\n",
       " 'V1_Exc_L2/3',\n",
       " 'V1_Exc_L2/3',\n",
       " 'V1_Exc_L2/3',\n",
       " 'V1_Exc_L2/3',\n",
       " 'V1_Exc_L2/3',\n",
       " 'V1_Exc_L2/3',\n",
       " 'V1_Exc_L2/3',\n",
       " 'V1_Exc_L2/3',\n",
       " 'V1_Exc_L2/3',\n",
       " 'V1_Exc_L2/3',\n",
       " 'V1_Exc_L2/3',\n",
       " 'V1_Exc_L2/3',\n",
       " 'V1_Exc_L2/3',\n",
       " 'V1_Exc_L2/3',\n",
       " 'V1_Exc_L2/3',\n",
       " 'V1_Exc_L2/3',\n",
       " 'V1_Exc_L2/3',\n",
       " 'V1_Exc_L2/3',\n",
       " 'V1_Exc_L2/3',\n",
       " 'V1_Exc_L2/3',\n",
       " 'V1_Exc_L2/3',\n",
       " 'V1_Exc_L2/3',\n",
       " 'V1_Exc_L2/3',\n",
       " 'V1_Exc_L2/3',\n",
       " 'V1_Exc_L2/3',\n",
       " 'V1_Exc_L2/3',\n",
       " 'V1_Exc_L2/3',\n",
       " 'V1_Exc_L2/3',\n",
       " 'V1_Exc_L2/3',\n",
       " 'V1_Exc_L2/3',\n",
       " 'V1_Exc_L2/3',\n",
       " 'V1_Exc_L2/3',\n",
       " 'V1_Exc_L2/3',\n",
       " 'V1_Exc_L2/3',\n",
       " 'V1_Exc_L2/3',\n",
       " 'V1_Exc_L2/3',\n",
       " 'V1_Exc_L2/3',\n",
       " 'V1_Exc_L2/3',\n",
       " 'V1_Exc_L2/3',\n",
       " 'V1_Exc_L2/3',\n",
       " 'V1_Exc_L2/3',\n",
       " 'V1_Exc_L2/3',\n",
       " ...]"
      ]
     },
     "execution_count": 11,
     "metadata": {},
     "output_type": "execute_result"
    }
   ],
   "source": [
    "list(cell_key)"
   ]
  },
  {
   "cell_type": "code",
   "execution_count": 12,
   "id": "b23e8cf2-9ff5-4eba-877b-fc418cbd7365",
   "metadata": {},
   "outputs": [
    {
     "data": {
      "text/plain": [
       "27"
      ]
     },
     "execution_count": 12,
     "metadata": {},
     "output_type": "execute_result"
    }
   ],
   "source": [
    "len(file_start_pos)"
   ]
  },
  {
   "cell_type": "code",
   "execution_count": 13,
   "id": "78bd2e29-9607-440d-84a4-a459d3cd29ad",
   "metadata": {},
   "outputs": [
    {
     "name": "stdout",
     "output_type": "stream",
     "text": [
      "(1496,)\n",
      "(1496,)\n",
      "(1496,)\n",
      "1496\n"
     ]
    }
   ],
   "source": [
    "print(x_pos.shape)\n",
    "print(y_pos.shape)\n",
    "print(ori.shape)\n",
    "print(len(cell_key))"
   ]
  },
  {
   "cell_type": "markdown",
   "id": "fa857a6e-3860-42bc-bc92-7401101355f5",
   "metadata": {
    "jp-MarkdownHeadingCollapsed": true
   },
   "source": [
    "## Generic Data Module"
   ]
  },
  {
   "cell_type": "code",
   "execution_count": 2,
   "id": "c7673cb8-8ca0-418b-9de6-4174ccbf1664",
   "metadata": {},
   "outputs": [
    {
     "name": "stdout",
     "output_type": "stream",
     "text": [
      "CPU Time 50.00633358955383 sec\n"
     ]
    }
   ],
   "source": [
    "from utils.generic_data import SimCloudData\n",
    "import torch\n",
    "\n",
    "out_file = 'data/cloud_data_stim_dim120_robs_sqrad_0.3_ori_0_180.hdf5'\n",
    "start    = time.time()\n",
    "data_ds  = SimCloudData(file_name=out_file, down_sample=2)\n",
    "end      = time.time()\n",
    "print('CPU Time', end-start, 'sec')"
   ]
  },
  {
   "cell_type": "code",
   "execution_count": 3,
   "id": "f99f2103-5ff4-45d9-a6a1-f6a578c9de3e",
   "metadata": {},
   "outputs": [
    {
     "data": {
      "text/plain": [
       "torch.Size([510000, 3600])"
      ]
     },
     "execution_count": 3,
     "metadata": {},
     "output_type": "execute_result"
    }
   ],
   "source": [
    "data_ds[:]['stim'].shape"
   ]
  },
  {
   "cell_type": "code",
   "execution_count": 4,
   "id": "00abba27-2afe-42dc-b377-af17eb2eff54",
   "metadata": {},
   "outputs": [
    {
     "data": {
      "text/plain": [
       "torch.Size([510000, 1496])"
      ]
     },
     "execution_count": 4,
     "metadata": {},
     "output_type": "execute_result"
    }
   ],
   "source": [
    "data_ds[:]['robs'].shape"
   ]
  },
  {
   "cell_type": "code",
   "execution_count": 5,
   "id": "232e9118-a10a-4f90-be36-68a881281d23",
   "metadata": {},
   "outputs": [
    {
     "data": {
      "text/plain": [
       "torch.Size([510000, 1496])"
      ]
     },
     "execution_count": 5,
     "metadata": {},
     "output_type": "execute_result"
    }
   ],
   "source": [
    "data_ds[:]['dfs'].shape"
   ]
  },
  {
   "cell_type": "code",
   "execution_count": 13,
   "id": "07a11c09-361d-4efc-bd1f-89dbaf495ec5",
   "metadata": {},
   "outputs": [
    {
     "data": {
      "text/plain": [
       "tensor([0., 0., 0., 0., 0., 0., 0., 0., 0., 0., 0., 0., 1., 1., 1., 1., 1., 1.,\n",
       "        1., 1.])"
      ]
     },
     "execution_count": 13,
     "metadata": {},
     "output_type": "execute_result"
    }
   ],
   "source": [
    "data_ds[:]['dfs'][2000:2020,1]"
   ]
  },
  {
   "cell_type": "code",
   "execution_count": 10,
   "id": "ccab8f72-cb20-4f6e-a7c8-d8e804b3b6bf",
   "metadata": {},
   "outputs": [
    {
     "data": {
      "text/plain": [
       "1000"
      ]
     },
     "execution_count": 10,
     "metadata": {},
     "output_type": "execute_result"
    }
   ],
   "source": [
    "data_ds.block_len"
   ]
  },
  {
   "cell_type": "code",
   "execution_count": 6,
   "id": "81f74d99-08a3-4c8c-9873-6a168d276988",
   "metadata": {},
   "outputs": [
    {
     "data": {
      "text/plain": [
       "510000"
      ]
     },
     "execution_count": 6,
     "metadata": {},
     "output_type": "execute_result"
    }
   ],
   "source": [
    "data_ds.NT"
   ]
  },
  {
   "cell_type": "code",
   "execution_count": 7,
   "id": "744d8b45-0090-49b4-af5e-1f82750efcf7",
   "metadata": {},
   "outputs": [
    {
     "data": {
      "text/plain": [
       "array([  0,   1,   2,   3,   4,   5,   6,   7,   8,   9,  10,  11,  12,\n",
       "        13,  14,  15,  16,  17,  18,  19,  20,  21,  22,  23,  24,  25,\n",
       "        26,  27,  28,  29,  30,  31,  32,  33,  34,  35,  36,  37,  38,\n",
       "        39,  40,  41,  42,  43,  44,  45,  46,  47,  48,  49,  50,  51,\n",
       "        52,  53,  54,  55,  56,  57,  58,  59,  60,  61,  62,  63,  64,\n",
       "        65,  66,  67,  68,  69,  70,  71,  72,  73,  74,  75,  76,  77,\n",
       "        78,  79,  80,  81,  82,  83,  84,  85,  86,  87,  88,  89,  90,\n",
       "        91,  92,  93,  94,  95,  96,  97,  98,  99, 100, 101, 102, 103,\n",
       "       104, 105, 106, 107, 108, 109, 110, 111, 112, 113, 114, 115, 116,\n",
       "       117, 118, 119, 120, 121, 122, 123, 124, 125, 126, 127, 128, 129,\n",
       "       130, 131, 132, 133, 134, 135, 136, 137, 138, 139, 140, 141, 142,\n",
       "       143, 144, 145, 146, 147, 148, 149, 150, 151, 152, 153, 154, 155,\n",
       "       156, 157, 158, 159, 160, 161, 162, 163, 164, 165, 166, 167, 168,\n",
       "       169, 170, 171, 172, 173, 174, 175, 176, 177, 178, 179, 180, 181,\n",
       "       182, 183, 184, 185, 186, 187, 188, 189, 190, 191, 192, 193, 194,\n",
       "       195, 196, 197, 198, 199, 200, 201, 202, 203, 204, 205, 206, 207,\n",
       "       208, 209, 210, 211, 212, 213, 214, 215, 216, 217, 218, 219, 220,\n",
       "       221, 222, 223, 224, 225, 226, 227, 228, 229, 230, 231, 232, 233,\n",
       "       234, 235, 236, 237, 238, 239, 240, 241, 242, 243, 244, 245, 246,\n",
       "       247, 248, 249, 250, 251, 252, 253, 254, 255, 256, 257, 258, 259,\n",
       "       260, 261, 262, 263, 264, 265, 266, 267, 268, 269, 270, 271, 272,\n",
       "       273, 274, 275, 276, 277, 278, 279, 280, 281, 282, 283, 284, 285,\n",
       "       286, 287, 288, 289, 290, 291, 292, 293, 294, 295, 296, 297, 298,\n",
       "       299, 300, 301, 302, 303, 304, 305, 306, 307, 308, 309, 310, 311,\n",
       "       312, 313, 314, 315, 316, 317, 318, 319, 320, 321, 322, 323, 324,\n",
       "       325, 326, 327, 328, 329, 330, 331, 332, 333, 334, 335, 336, 337,\n",
       "       338, 339, 340, 341, 342, 343, 344, 345, 346, 347, 348, 349, 350,\n",
       "       351, 352, 353, 354, 355, 356, 357, 358, 359, 360, 361, 362, 363,\n",
       "       364, 365, 366, 367, 368, 369, 370, 371, 372, 373, 374, 375, 376,\n",
       "       377, 378, 379, 380, 381, 382, 383, 384, 385, 386, 387, 388, 389,\n",
       "       390, 391, 392, 393, 394, 395, 396, 397, 398, 399, 400, 401, 402,\n",
       "       403, 404, 405, 406, 407])"
      ]
     },
     "execution_count": 7,
     "metadata": {},
     "output_type": "execute_result"
    }
   ],
   "source": [
    "data_ds.train_inds"
   ]
  },
  {
   "cell_type": "code",
   "execution_count": 8,
   "id": "8a57047d-0354-417c-935a-b2153dadc0d8",
   "metadata": {},
   "outputs": [
    {
     "data": {
      "text/plain": [
       "array([408, 409, 410, 411, 412, 413, 414, 415, 416, 417, 418, 419, 420,\n",
       "       421, 422, 423, 424, 425, 426, 427, 428, 429, 430, 431, 432, 433,\n",
       "       434, 435, 436, 437, 438, 439, 440, 441, 442, 443, 444, 445, 446,\n",
       "       447, 448, 449, 450, 451, 452, 453, 454, 455, 456, 457, 458, 459,\n",
       "       460, 461, 462, 463, 464, 465, 466, 467, 468, 469, 470, 471, 472,\n",
       "       473, 474, 475, 476, 477, 478, 479, 480, 481, 482, 483, 484, 485,\n",
       "       486, 487, 488, 489, 490, 491, 492, 493, 494, 495, 496, 497, 498,\n",
       "       499, 500, 501, 502, 503, 504, 505, 506, 507, 508, 509])"
      ]
     },
     "execution_count": 8,
     "metadata": {},
     "output_type": "execute_result"
    }
   ],
   "source": [
    "data_ds.val_inds"
   ]
  },
  {
   "cell_type": "code",
   "execution_count": null,
   "id": "9bee49ef-a83b-4bba-bcba-699f70e2e5a3",
   "metadata": {},
   "outputs": [],
   "source": []
  }
 ],
 "metadata": {
  "kernelspec": {
   "display_name": "Python 3 (ipykernel)",
   "language": "python",
   "name": "python3"
  },
  "language_info": {
   "codemirror_mode": {
    "name": "ipython",
    "version": 3
   },
   "file_extension": ".py",
   "mimetype": "text/x-python",
   "name": "python",
   "nbconvert_exporter": "python",
   "pygments_lexer": "ipython3",
   "version": "3.12.4"
  }
 },
 "nbformat": 4,
 "nbformat_minor": 5
}
